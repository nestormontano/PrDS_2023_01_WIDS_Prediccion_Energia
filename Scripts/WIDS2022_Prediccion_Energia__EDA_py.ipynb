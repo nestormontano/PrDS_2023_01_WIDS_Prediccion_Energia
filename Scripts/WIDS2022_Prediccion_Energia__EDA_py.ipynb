{
  "nbformat": 4,
  "nbformat_minor": 0,
  "metadata": {
    "colab": {
      "provenance": [],
      "include_colab_link": true
    },
    "kernelspec": {
      "name": "python3",
      "display_name": "Python 3"
    },
    "language_info": {
      "name": "python"
    }
  },
  "cells": [
    {
      "cell_type": "markdown",
      "metadata": {
        "id": "view-in-github",
        "colab_type": "text"
      },
      "source": [
        "<a href=\"https://colab.research.google.com/github/nestormontano/PrDS_2023_01_WIDS_Prediccion_Energia/blob/main/Scripts/WIDS2022_Prediccion_Energia__EDA_py.ipynb\" target=\"_parent\"><img src=\"https://colab.research.google.com/assets/colab-badge.svg\" alt=\"Open In Colab\"/></a>"
      ]
    },
    {
      "cell_type": "markdown",
      "source": [
        "# Proyecto Programa Data Science WIDS - Prediccion de Energia\n",
        "\n",
        "Con Python"
      ],
      "metadata": {
        "id": "9DIvVdVu4XC1"
      }
    },
    {
      "cell_type": "markdown",
      "source": [
        "Sitio del concurso: https://www.kaggle.com/c/widsdatathon2022\n",
        "\n",
        "Datos: https://drive.google.com/drive/folders/1BxbUc5k1DowoyIvRurX1Iw8ksyIrLzBE?usp=share_link\n",
        "\n",
        "\n",
        "Deben seguir las instrucciones dadas en el pdf, esto para  \n",
        "- Ser invitados como colaboradores del repositorio en GitHub\n",
        "- Abrir la carpeta y hacer un acceso directo en su drive \n",
        "- Conectar el Colab con su drive \n",
        "\n",
        "Recuerden que deben cambiar la carpeta que será el workspace o las rutas para poder importar los datos.\n",
        "\n",
        "Finalmente, seguir las instrucciones del pdf para escribir en GitHub los cambios para que se noten sus aportes."
      ],
      "metadata": {
        "id": "gZ7_rikQ4eoe"
      }
    },
    {
      "cell_type": "code",
      "source": [
        "from google.colab import drive\n",
        "drive.mount('/content/drive')"
      ],
      "metadata": {
        "colab": {
          "base_uri": "https://localhost:8080/"
        },
        "id": "w4Myj07U5Fe1",
        "outputId": "d982b80d-b3c2-45c6-81b1-a40677bdd1ae"
      },
      "execution_count": 1,
      "outputs": [
        {
          "output_type": "stream",
          "name": "stdout",
          "text": [
            "Mounted at /content/drive\n"
          ]
        }
      ]
    },
    {
      "cell_type": "markdown",
      "source": [
        "#### Preliminares"
      ],
      "metadata": {
        "id": "vKSw1JXfdGBW"
      }
    },
    {
      "cell_type": "code",
      "execution_count": 2,
      "metadata": {
        "id": "6zbcpCcP254-"
      },
      "outputs": [],
      "source": [
        "import pandas as pd\n",
        "import numpy as np\n",
        "import os"
      ]
    },
    {
      "cell_type": "code",
      "source": [
        "os.chdir('/content/drive/MyDrive/CURSOS_DICTADOS/TUTORIAS/PrDS_2023_01_WIDS_Prediccion_Energia/')"
      ],
      "metadata": {
        "id": "KC6LhSIkAupo"
      },
      "execution_count": 3,
      "outputs": []
    },
    {
      "cell_type": "markdown",
      "source": [
        "## EDA"
      ],
      "metadata": {
        "id": "hjhdd0VedVzN"
      }
    },
    {
      "cell_type": "markdown",
      "source": [
        "### Importar, corregir Datos y unir"
      ],
      "metadata": {
        "id": "8aJ_AGo-dSwd"
      }
    },
    {
      "cell_type": "code",
      "source": [
        "train= pd.read_csv('widsdatathon2022/train.csv')\n",
        "train.info()"
      ],
      "metadata": {
        "colab": {
          "base_uri": "https://localhost:8080/"
        },
        "id": "rf5KTtkQdViq",
        "outputId": "4af09a09-e64e-4528-cb93-9973488aa8ff"
      },
      "execution_count": 4,
      "outputs": [
        {
          "output_type": "stream",
          "name": "stdout",
          "text": [
            "<class 'pandas.core.frame.DataFrame'>\n",
            "RangeIndex: 75757 entries, 0 to 75756\n",
            "Data columns (total 64 columns):\n",
            " #   Column                     Non-Null Count  Dtype  \n",
            "---  ------                     --------------  -----  \n",
            " 0   Year_Factor                75757 non-null  int64  \n",
            " 1   State_Factor               75757 non-null  object \n",
            " 2   building_class             75757 non-null  object \n",
            " 3   facility_type              75757 non-null  object \n",
            " 4   floor_area                 75757 non-null  float64\n",
            " 5   year_built                 73920 non-null  float64\n",
            " 6   energy_star_rating         49048 non-null  float64\n",
            " 7   ELEVATION                  75757 non-null  float64\n",
            " 8   january_min_temp           75757 non-null  int64  \n",
            " 9   january_avg_temp           75757 non-null  float64\n",
            " 10  january_max_temp           75757 non-null  int64  \n",
            " 11  february_min_temp          75757 non-null  int64  \n",
            " 12  february_avg_temp          75757 non-null  float64\n",
            " 13  february_max_temp          75757 non-null  int64  \n",
            " 14  march_min_temp             75757 non-null  int64  \n",
            " 15  march_avg_temp             75757 non-null  float64\n",
            " 16  march_max_temp             75757 non-null  int64  \n",
            " 17  april_min_temp             75757 non-null  int64  \n",
            " 18  april_avg_temp             75757 non-null  float64\n",
            " 19  april_max_temp             75757 non-null  int64  \n",
            " 20  may_min_temp               75757 non-null  int64  \n",
            " 21  may_avg_temp               75757 non-null  float64\n",
            " 22  may_max_temp               75757 non-null  int64  \n",
            " 23  june_min_temp              75757 non-null  int64  \n",
            " 24  june_avg_temp              75757 non-null  float64\n",
            " 25  june_max_temp              75757 non-null  int64  \n",
            " 26  july_min_temp              75757 non-null  int64  \n",
            " 27  july_avg_temp              75757 non-null  float64\n",
            " 28  july_max_temp              75757 non-null  int64  \n",
            " 29  august_min_temp            75757 non-null  int64  \n",
            " 30  august_avg_temp            75757 non-null  float64\n",
            " 31  august_max_temp            75757 non-null  int64  \n",
            " 32  september_min_temp         75757 non-null  int64  \n",
            " 33  september_avg_temp         75757 non-null  float64\n",
            " 34  september_max_temp         75757 non-null  int64  \n",
            " 35  october_min_temp           75757 non-null  int64  \n",
            " 36  october_avg_temp           75757 non-null  float64\n",
            " 37  october_max_temp           75757 non-null  int64  \n",
            " 38  november_min_temp          75757 non-null  int64  \n",
            " 39  november_avg_temp          75757 non-null  float64\n",
            " 40  november_max_temp          75757 non-null  int64  \n",
            " 41  december_min_temp          75757 non-null  int64  \n",
            " 42  december_avg_temp          75757 non-null  float64\n",
            " 43  december_max_temp          75757 non-null  int64  \n",
            " 44  cooling_degree_days        75757 non-null  int64  \n",
            " 45  heating_degree_days        75757 non-null  int64  \n",
            " 46  precipitation_inches       75757 non-null  float64\n",
            " 47  snowfall_inches            75757 non-null  float64\n",
            " 48  snowdepth_inches           75757 non-null  int64  \n",
            " 49  avg_temp                   75757 non-null  float64\n",
            " 50  days_below_30F             75757 non-null  int64  \n",
            " 51  days_below_20F             75757 non-null  int64  \n",
            " 52  days_below_10F             75757 non-null  int64  \n",
            " 53  days_below_0F              75757 non-null  int64  \n",
            " 54  days_above_80F             75757 non-null  int64  \n",
            " 55  days_above_90F             75757 non-null  int64  \n",
            " 56  days_above_100F            75757 non-null  int64  \n",
            " 57  days_above_110F            75757 non-null  int64  \n",
            " 58  direction_max_wind_speed   34675 non-null  float64\n",
            " 59  direction_peak_wind_speed  33946 non-null  float64\n",
            " 60  max_wind_speed             34675 non-null  float64\n",
            " 61  days_with_fog              29961 non-null  float64\n",
            " 62  site_eui                   75757 non-null  float64\n",
            " 63  id                         75757 non-null  int64  \n",
            "dtypes: float64(24), int64(37), object(3)\n",
            "memory usage: 37.0+ MB\n"
          ]
        }
      ]
    },
    {
      "cell_type": "code",
      "source": [],
      "metadata": {
        "id": "SMkHU2NffAe9"
      },
      "execution_count": null,
      "outputs": []
    },
    {
      "cell_type": "markdown",
      "source": [
        "### EDA univariado\n",
        "\n",
        "Para encontrar qué variables deben ser excluidas del modelo, si se requiere alguna transformación, etc."
      ],
      "metadata": {
        "id": "0EsJ1LQHdcAV"
      }
    },
    {
      "cell_type": "code",
      "source": [],
      "metadata": {
        "id": "MyHSS5BrhNtY"
      },
      "execution_count": null,
      "outputs": []
    },
    {
      "cell_type": "code",
      "source": [],
      "metadata": {
        "id": "kDNfDcx8h5yG"
      },
      "execution_count": null,
      "outputs": []
    },
    {
      "cell_type": "markdown",
      "source": [
        "#### ++ Variables con demasiados NA"
      ],
      "metadata": {
        "id": "1-kZJsxphO1w"
      }
    },
    {
      "cell_type": "code",
      "source": [],
      "metadata": {
        "id": "4YmyiAPYhOJN"
      },
      "execution_count": null,
      "outputs": []
    },
    {
      "cell_type": "markdown",
      "source": [
        "#### ++ Variables con varianza cercana a cero"
      ],
      "metadata": {
        "id": "3i5TumqThaWP"
      }
    },
    {
      "cell_type": "code",
      "source": [],
      "metadata": {
        "id": "LYjiX9e3hmlu"
      },
      "execution_count": null,
      "outputs": []
    },
    {
      "cell_type": "code",
      "source": [],
      "metadata": {
        "id": "5tm0igzZhmoH"
      },
      "execution_count": null,
      "outputs": []
    },
    {
      "cell_type": "markdown",
      "source": [
        "#### Conclusiones"
      ],
      "metadata": {
        "id": "1-Jy7M--hnwe"
      }
    },
    {
      "cell_type": "markdown",
      "source": [
        "### EDA Multivariado\n",
        "\n",
        "Para encontrar relaciones entre variables, variables que pueden producir tener multicolinearidad o concurvidad, etc."
      ],
      "metadata": {
        "id": "0GjIisKmde_1"
      }
    },
    {
      "cell_type": "code",
      "source": [],
      "metadata": {
        "id": "Fah510hVfR_O"
      },
      "execution_count": null,
      "outputs": []
    },
    {
      "cell_type": "code",
      "source": [],
      "metadata": {
        "id": "kJifPvi7h5C2"
      },
      "execution_count": null,
      "outputs": []
    },
    {
      "cell_type": "markdown",
      "source": [
        "#### ++ Variables con alta correlación"
      ],
      "metadata": {
        "id": "0K83k20Th0p-"
      }
    },
    {
      "cell_type": "code",
      "source": [],
      "metadata": {
        "id": "-2K81J_Th4vJ"
      },
      "execution_count": null,
      "outputs": []
    }
  ]
}