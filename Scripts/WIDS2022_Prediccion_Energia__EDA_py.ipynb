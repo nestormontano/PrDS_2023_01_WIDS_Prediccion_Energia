{
  "nbformat": 4,
  "nbformat_minor": 0,
  "metadata": {
    "colab": {
      "provenance": [],
      "toc_visible": true,
      "include_colab_link": true
    },
    "kernelspec": {
      "name": "python3",
      "display_name": "Python 3"
    },
    "language_info": {
      "name": "python"
    }
  },
  "cells": [
    {
      "cell_type": "markdown",
      "metadata": {
        "id": "view-in-github",
        "colab_type": "text"
      },
      "source": [
        "<a href=\"https://colab.research.google.com/github/nestormontano/PrDS_2023_01_WIDS_Prediccion_Energia/blob/main/Scripts/WIDS2022_Prediccion_Energia__EDA_py.ipynb\" target=\"_parent\"><img src=\"https://colab.research.google.com/assets/colab-badge.svg\" alt=\"Open In Colab\"/></a>"
      ]
    },
    {
      "cell_type": "markdown",
      "source": [
        "# Proyecto Programa Data Science WIDS - Prediccion de Energia\n",
        "\n",
        "Con Python"
      ],
      "metadata": {
        "id": "9DIvVdVu4XC1"
      }
    },
    {
      "cell_type": "markdown",
      "source": [
        "Sitio del concurso: https://www.kaggle.com/c/widsdatathon2022\n",
        "\n",
        "Datos: https://drive.google.com/drive/folders/1BxbUc5k1DowoyIvRurX1Iw8ksyIrLzBE?usp=share_link\n",
        "\n",
        "\n",
        "Deben seguir las instrucciones dadas en el pdf, esto para  \n",
        "- Ser invitados como colaboradores del repositorio en GitHub\n",
        "- Abrir la carpeta y hacer un acceso directo en su drive \n",
        "- Conectar el Colab con su drive \n",
        "\n",
        "Recuerden que deben cambiar la carpeta que será el workspace o las rutas para poder importar los datos.\n",
        "\n",
        "Finalmente, seguir las instrucciones del pdf para escribir en GitHub los cambios para que se noten sus aportes."
      ],
      "metadata": {
        "id": "gZ7_rikQ4eoe"
      }
    },
    {
      "cell_type": "code",
      "source": [
        "from google.colab import drive\n",
        "drive.mount('/content/drive')"
      ],
      "metadata": {
        "colab": {
          "base_uri": "https://localhost:8080/"
        },
        "id": "w4Myj07U5Fe1",
        "outputId": "15117605-9a14-498c-f3e0-71383290e065"
      },
      "execution_count": null,
      "outputs": [
        {
          "output_type": "stream",
          "name": "stdout",
          "text": [
            "Mounted at /content/drive\n"
          ]
        }
      ]
    },
    {
      "cell_type": "markdown",
      "source": [
        "#### Preliminares"
      ],
      "metadata": {
        "id": "vKSw1JXfdGBW"
      }
    },
    {
      "cell_type": "code",
      "execution_count": null,
      "metadata": {
        "id": "6zbcpCcP254-"
      },
      "outputs": [],
      "source": [
        "import pandas as pd\n",
        "import numpy as np\n",
        "import os\n",
        "import textwrap"
      ]
    },
    {
      "cell_type": "code",
      "source": [
        "! pip install skimpy"
      ],
      "metadata": {
        "id": "iS6mCxkF4ErE"
      },
      "execution_count": null,
      "outputs": []
    },
    {
      "cell_type": "code",
      "source": [
        "!pip install -U dataprep"
      ],
      "metadata": {
        "id": "kGCZg-454HCL"
      },
      "execution_count": null,
      "outputs": []
    },
    {
      "cell_type": "code",
      "source": [
        "from skimpy import skim\n",
        "from dataprep.eda import create_report"
      ],
      "metadata": {
        "id": "zdafzmv04Jfb"
      },
      "execution_count": null,
      "outputs": []
    },
    {
      "cell_type": "code",
      "source": [
        "os.chdir('/content/drive/MyDrive/CURSOS_DICTADOS/TUTORIAS/PrDS_2023_01_WIDS_Prediccion_Energia/')"
      ],
      "metadata": {
        "id": "KC6LhSIkAupo"
      },
      "execution_count": null,
      "outputs": []
    },
    {
      "cell_type": "code",
      "source": [
        "''' Esta funcion es una utilitaria para imprimir los nombres de columnas y \n",
        "que no toque hacer desplazamiento horizontal'''\n",
        "wrapper = textwrap.TextWrapper(width=100)"
      ],
      "metadata": {
        "id": "roW4627VddjI"
      },
      "execution_count": null,
      "outputs": []
    },
    {
      "cell_type": "code",
      "source": [],
      "metadata": {
        "id": "dPwWeQFhdglI"
      },
      "execution_count": null,
      "outputs": []
    },
    {
      "cell_type": "markdown",
      "source": [
        "### Importar, corregir Datos y unir"
      ],
      "metadata": {
        "id": "8aJ_AGo-dSwd"
      }
    },
    {
      "cell_type": "markdown",
      "source": [
        "## EDA"
      ],
      "metadata": {
        "id": "hjhdd0VedVzN"
      }
    },
    {
      "cell_type": "code",
      "source": [
        "train= pd.read_csv('widsdatathon2022/train.csv')\n",
        "train.info()"
      ],
      "metadata": {
        "colab": {
          "base_uri": "https://localhost:8080/"
        },
        "id": "rf5KTtkQdViq",
        "outputId": "22efd29e-98b1-4d7b-ba51-ec50b4547bf0"
      },
      "execution_count": null,
      "outputs": [
        {
          "output_type": "stream",
          "name": "stdout",
          "text": [
            "<class 'pandas.core.frame.DataFrame'>\n",
            "RangeIndex: 75757 entries, 0 to 75756\n",
            "Data columns (total 64 columns):\n",
            " #   Column                     Non-Null Count  Dtype  \n",
            "---  ------                     --------------  -----  \n",
            " 0   Year_Factor                75757 non-null  int64  \n",
            " 1   State_Factor               75757 non-null  object \n",
            " 2   building_class             75757 non-null  object \n",
            " 3   facility_type              75757 non-null  object \n",
            " 4   floor_area                 75757 non-null  float64\n",
            " 5   year_built                 73920 non-null  float64\n",
            " 6   energy_star_rating         49048 non-null  float64\n",
            " 7   ELEVATION                  75757 non-null  float64\n",
            " 8   january_min_temp           75757 non-null  int64  \n",
            " 9   january_avg_temp           75757 non-null  float64\n",
            " 10  january_max_temp           75757 non-null  int64  \n",
            " 11  february_min_temp          75757 non-null  int64  \n",
            " 12  february_avg_temp          75757 non-null  float64\n",
            " 13  february_max_temp          75757 non-null  int64  \n",
            " 14  march_min_temp             75757 non-null  int64  \n",
            " 15  march_avg_temp             75757 non-null  float64\n",
            " 16  march_max_temp             75757 non-null  int64  \n",
            " 17  april_min_temp             75757 non-null  int64  \n",
            " 18  april_avg_temp             75757 non-null  float64\n",
            " 19  april_max_temp             75757 non-null  int64  \n",
            " 20  may_min_temp               75757 non-null  int64  \n",
            " 21  may_avg_temp               75757 non-null  float64\n",
            " 22  may_max_temp               75757 non-null  int64  \n",
            " 23  june_min_temp              75757 non-null  int64  \n",
            " 24  june_avg_temp              75757 non-null  float64\n",
            " 25  june_max_temp              75757 non-null  int64  \n",
            " 26  july_min_temp              75757 non-null  int64  \n",
            " 27  july_avg_temp              75757 non-null  float64\n",
            " 28  july_max_temp              75757 non-null  int64  \n",
            " 29  august_min_temp            75757 non-null  int64  \n",
            " 30  august_avg_temp            75757 non-null  float64\n",
            " 31  august_max_temp            75757 non-null  int64  \n",
            " 32  september_min_temp         75757 non-null  int64  \n",
            " 33  september_avg_temp         75757 non-null  float64\n",
            " 34  september_max_temp         75757 non-null  int64  \n",
            " 35  october_min_temp           75757 non-null  int64  \n",
            " 36  october_avg_temp           75757 non-null  float64\n",
            " 37  october_max_temp           75757 non-null  int64  \n",
            " 38  november_min_temp          75757 non-null  int64  \n",
            " 39  november_avg_temp          75757 non-null  float64\n",
            " 40  november_max_temp          75757 non-null  int64  \n",
            " 41  december_min_temp          75757 non-null  int64  \n",
            " 42  december_avg_temp          75757 non-null  float64\n",
            " 43  december_max_temp          75757 non-null  int64  \n",
            " 44  cooling_degree_days        75757 non-null  int64  \n",
            " 45  heating_degree_days        75757 non-null  int64  \n",
            " 46  precipitation_inches       75757 non-null  float64\n",
            " 47  snowfall_inches            75757 non-null  float64\n",
            " 48  snowdepth_inches           75757 non-null  int64  \n",
            " 49  avg_temp                   75757 non-null  float64\n",
            " 50  days_below_30F             75757 non-null  int64  \n",
            " 51  days_below_20F             75757 non-null  int64  \n",
            " 52  days_below_10F             75757 non-null  int64  \n",
            " 53  days_below_0F              75757 non-null  int64  \n",
            " 54  days_above_80F             75757 non-null  int64  \n",
            " 55  days_above_90F             75757 non-null  int64  \n",
            " 56  days_above_100F            75757 non-null  int64  \n",
            " 57  days_above_110F            75757 non-null  int64  \n",
            " 58  direction_max_wind_speed   34675 non-null  float64\n",
            " 59  direction_peak_wind_speed  33946 non-null  float64\n",
            " 60  max_wind_speed             34675 non-null  float64\n",
            " 61  days_with_fog              29961 non-null  float64\n",
            " 62  site_eui                   75757 non-null  float64\n",
            " 63  id                         75757 non-null  int64  \n",
            "dtypes: float64(24), int64(37), object(3)\n",
            "memory usage: 37.0+ MB\n"
          ]
        }
      ]
    },
    {
      "cell_type": "code",
      "source": [
        "# list( train.select_dtypes( include= 'integer') )  # Comando base\n",
        "print( 'Columnas Object' )\n",
        "print( wrapper.fill( str( list( train.select_dtypes( include= 'object') ) ) ) )\n",
        "print( 'Columnas Entero' )\n",
        "print( wrapper.fill( str( list( train.select_dtypes( include= 'integer') ) ) ) )\n",
        "print( 'Columnas Float' )\n",
        "print( wrapper.fill( str( list( train.select_dtypes( include= 'floating') ) ) ) )\n",
        "print( 'Columnas Verdadero Falso' )\n",
        "print( wrapper.fill( str( list( train.select_dtypes( include= 'bool') ) ) ) )\n",
        "print( 'Columnas Categoricas' )\n",
        "print( wrapper.fill( str( list( train.select_dtypes( include= 'category') ) ) ) )\n",
        "print( 'Columnas Fecha' )\n",
        "print( wrapper.fill( str( list( train.select_dtypes( include= 'datetime') ) ) ) )"
      ],
      "metadata": {
        "id": "SMkHU2NffAe9",
        "colab": {
          "base_uri": "https://localhost:8080/"
        },
        "outputId": "26d3fba9-d119-4fe7-e17b-166a376ae68f"
      },
      "execution_count": null,
      "outputs": [
        {
          "output_type": "stream",
          "name": "stdout",
          "text": [
            "Columnas Object\n",
            "['State_Factor', 'building_class', 'facility_type']\n",
            "Columnas Entero\n",
            "['Year_Factor', 'january_min_temp', 'january_max_temp', 'february_min_temp', 'february_max_temp',\n",
            "'march_min_temp', 'march_max_temp', 'april_min_temp', 'april_max_temp', 'may_min_temp',\n",
            "'may_max_temp', 'june_min_temp', 'june_max_temp', 'july_min_temp', 'july_max_temp',\n",
            "'august_min_temp', 'august_max_temp', 'september_min_temp', 'september_max_temp',\n",
            "'october_min_temp', 'october_max_temp', 'november_min_temp', 'november_max_temp',\n",
            "'december_min_temp', 'december_max_temp', 'cooling_degree_days', 'heating_degree_days',\n",
            "'snowdepth_inches', 'days_below_30F', 'days_below_20F', 'days_below_10F', 'days_below_0F',\n",
            "'days_above_80F', 'days_above_90F', 'days_above_100F', 'days_above_110F', 'id']\n",
            "Columnas Float\n",
            "['floor_area', 'year_built', 'energy_star_rating', 'ELEVATION', 'january_avg_temp',\n",
            "'february_avg_temp', 'march_avg_temp', 'april_avg_temp', 'may_avg_temp', 'june_avg_temp',\n",
            "'july_avg_temp', 'august_avg_temp', 'september_avg_temp', 'october_avg_temp', 'november_avg_temp',\n",
            "'december_avg_temp', 'precipitation_inches', 'snowfall_inches', 'avg_temp',\n",
            "'direction_max_wind_speed', 'direction_peak_wind_speed', 'max_wind_speed', 'days_with_fog',\n",
            "'site_eui']\n",
            "Columnas Verdadero Falso\n",
            "[]\n",
            "Columnas Categoricas\n",
            "[]\n",
            "Columnas Fecha\n",
            "[]\n"
          ]
        }
      ]
    },
    {
      "cell_type": "markdown",
      "source": [
        "Analizar si los tipos de datos son los correctos, caso contrario modificarlos (ver link que les pasé al grupo para ejemplo)"
      ],
      "metadata": {
        "id": "98fekcJTdqIX"
      }
    },
    {
      "cell_type": "code",
      "source": [],
      "metadata": {
        "id": "sTNcQYZEdX4f"
      },
      "execution_count": null,
      "outputs": []
    },
    {
      "cell_type": "code",
      "source": [],
      "metadata": {
        "id": "R63i6ZtAdX-G"
      },
      "execution_count": null,
      "outputs": []
    },
    {
      "cell_type": "markdown",
      "source": [
        "### EDA univariado\n",
        "\n",
        "Para encontrar qué variables deben ser excluidas del modelo, si se requiere alguna transformación, etc."
      ],
      "metadata": {
        "id": "0EsJ1LQHdcAV"
      }
    },
    {
      "cell_type": "code",
      "source": [
        "skim(train)"
      ],
      "metadata": {
        "id": "MyHSS5BrhNtY",
        "colab": {
          "base_uri": "https://localhost:8080/",
          "height": 1000
        },
        "outputId": "f9decf19-0d7d-4c91-d6fc-6c8ab1fb8789"
      },
      "execution_count": null,
      "outputs": [
        {
          "output_type": "display_data",
          "data": {
            "text/plain": [
              "╭──────────────────────────────────────────────── skimpy summary ─────────────────────────────────────────────────╮\n",
              "│ \u001b[3m         Data Summary         \u001b[0m \u001b[3m      Data Types       \u001b[0m                                                          │\n",
              "│ ┏━━━━━━━━━━━━━━━━━━━┳━━━━━━━━┓ ┏━━━━━━━━━━━━━┳━━━━━━━┓                                                          │\n",
              "│ ┃\u001b[1;36m \u001b[0m\u001b[1;36mdataframe        \u001b[0m\u001b[1;36m \u001b[0m┃\u001b[1;36m \u001b[0m\u001b[1;36mValues\u001b[0m\u001b[1;36m \u001b[0m┃ ┃\u001b[1;36m \u001b[0m\u001b[1;36mColumn Type\u001b[0m\u001b[1;36m \u001b[0m┃\u001b[1;36m \u001b[0m\u001b[1;36mCount\u001b[0m\u001b[1;36m \u001b[0m┃                                                          │\n",
              "│ ┡━━━━━━━━━━━━━━━━━━━╇━━━━━━━━┩ ┡━━━━━━━━━━━━━╇━━━━━━━┩                                                          │\n",
              "│ │ Number of rows    │ 75757  │ │ int64       │ 37    │                                                          │\n",
              "│ │ Number of columns │ 64     │ │ float64     │ 24    │                                                          │\n",
              "│ └───────────────────┴────────┘ │ string      │ 3     │                                                          │\n",
              "│                                └─────────────┴───────┘                                                          │\n",
              "│ \u001b[3m                                                    number                                                    \u001b[0m  │\n",
              "│ ┏━━━━━━━━━━━━━━━━━━━━━━━━━┳━━━━━━━━┳━━━━━━━┳━━━━━━━━━┳━━━━━━━━━┳━━━━━━━┳━━━━━━━━┳━━━━━━━━━┳━━━━━━━━━┳━━━━━━━━┓  │\n",
              "│ ┃\u001b[1m \u001b[0m\u001b[1mcolumn_name            \u001b[0m\u001b[1m \u001b[0m┃\u001b[1m \u001b[0m\u001b[1mNA    \u001b[0m\u001b[1m \u001b[0m┃\u001b[1m \u001b[0m\u001b[1mNA % \u001b[0m\u001b[1m \u001b[0m┃\u001b[1m \u001b[0m\u001b[1mmean   \u001b[0m\u001b[1m \u001b[0m┃\u001b[1m \u001b[0m\u001b[1msd     \u001b[0m\u001b[1m \u001b[0m┃\u001b[1m \u001b[0m\u001b[1mp0   \u001b[0m\u001b[1m \u001b[0m┃\u001b[1m \u001b[0m\u001b[1mp25   \u001b[0m\u001b[1m \u001b[0m┃\u001b[1m \u001b[0m\u001b[1mp75    \u001b[0m\u001b[1m \u001b[0m┃\u001b[1m \u001b[0m\u001b[1mp100   \u001b[0m\u001b[1m \u001b[0m┃\u001b[1m \u001b[0m\u001b[1mhist  \u001b[0m\u001b[1m \u001b[0m┃  │\n",
              "│ ┡━━━━━━━━━━━━━━━━━━━━━━━━━╇━━━━━━━━╇━━━━━━━╇━━━━━━━━━╇━━━━━━━━━╇━━━━━━━╇━━━━━━━━╇━━━━━━━━━╇━━━━━━━━━╇━━━━━━━━┩  │\n",
              "│ │ \u001b[38;5;141mYear_Factor            \u001b[0m │ \u001b[36m     0\u001b[0m │ \u001b[36m    0\u001b[0m │ \u001b[36m    4.4\u001b[0m │ \u001b[36m    1.5\u001b[0m │ \u001b[36m    1\u001b[0m │ \u001b[36m     3\u001b[0m │ \u001b[36m      6\u001b[0m │ \u001b[36m      6\u001b[0m │ \u001b[32m▁▃▄▅▇█\u001b[0m │  │\n",
              "│ │ \u001b[38;5;141mfloor_area             \u001b[0m │ \u001b[36m     0\u001b[0m │ \u001b[36m    0\u001b[0m │ \u001b[36m 170000\u001b[0m │ \u001b[36m 250000\u001b[0m │ \u001b[36m  940\u001b[0m │ \u001b[36m 62000\u001b[0m │ \u001b[36m 170000\u001b[0m │ \u001b[36m6400000\u001b[0m │ \u001b[32m  █   \u001b[0m │  │\n",
              "│ │ \u001b[38;5;141myear_built             \u001b[0m │ \u001b[36m  1800\u001b[0m │ \u001b[36m  2.4\u001b[0m │ \u001b[36m   2000\u001b[0m │ \u001b[36m     37\u001b[0m │ \u001b[36m    0\u001b[0m │ \u001b[36m  1900\u001b[0m │ \u001b[36m   2000\u001b[0m │ \u001b[36m   2000\u001b[0m │ \u001b[32m     █\u001b[0m │  │\n",
              "│ │ \u001b[38;5;141menergy_star_rating     \u001b[0m │ \u001b[36m 27000\u001b[0m │ \u001b[36m   35\u001b[0m │ \u001b[36m     61\u001b[0m │ \u001b[36m     29\u001b[0m │ \u001b[36m    0\u001b[0m │ \u001b[36m    40\u001b[0m │ \u001b[36m     85\u001b[0m │ \u001b[36m    100\u001b[0m │ \u001b[32m▃▃▄▅▇█\u001b[0m │  │\n",
              "│ │ \u001b[38;5;141mELEVATION              \u001b[0m │ \u001b[36m     0\u001b[0m │ \u001b[36m    0\u001b[0m │ \u001b[36m     40\u001b[0m │ \u001b[36m     61\u001b[0m │ \u001b[36m -6.4\u001b[0m │ \u001b[36m    12\u001b[0m │ \u001b[36m     43\u001b[0m │ \u001b[36m   1900\u001b[0m │ \u001b[32m  █   \u001b[0m │  │\n",
              "│ │ \u001b[38;5;141mjanuary_min_temp       \u001b[0m │ \u001b[36m     0\u001b[0m │ \u001b[36m    0\u001b[0m │ \u001b[36m     11\u001b[0m │ \u001b[36m    9.4\u001b[0m │ \u001b[36m  -19\u001b[0m │ \u001b[36m     6\u001b[0m │ \u001b[36m     13\u001b[0m │ \u001b[36m     49\u001b[0m │ \u001b[32m ▁█ ▁ \u001b[0m │  │\n",
              "│ │ \u001b[38;5;141mjanuary_avg_temp       \u001b[0m │ \u001b[36m     0\u001b[0m │ \u001b[36m    0\u001b[0m │ \u001b[36m     34\u001b[0m │ \u001b[36m      7\u001b[0m │ \u001b[36m   11\u001b[0m │ \u001b[36m    30\u001b[0m │ \u001b[36m     37\u001b[0m │ \u001b[36m     65\u001b[0m │ \u001b[32m ▃█▁▁ \u001b[0m │  │\n",
              "│ │ \u001b[38;5;141mjanuary_max_temp       \u001b[0m │ \u001b[36m     0\u001b[0m │ \u001b[36m    0\u001b[0m │ \u001b[36m     59\u001b[0m │ \u001b[36m    5.4\u001b[0m │ \u001b[36m   42\u001b[0m │ \u001b[36m    56\u001b[0m │ \u001b[36m     62\u001b[0m │ \u001b[36m     91\u001b[0m │ \u001b[32m ▁▅█▁ \u001b[0m │  │\n",
              "│ │ \u001b[38;5;141mfebruary_min_temp      \u001b[0m │ \u001b[36m     0\u001b[0m │ \u001b[36m    0\u001b[0m │ \u001b[36m     12\u001b[0m │ \u001b[36m     13\u001b[0m │ \u001b[36m  -13\u001b[0m │ \u001b[36m     2\u001b[0m │ \u001b[36m     20\u001b[0m │ \u001b[36m     48\u001b[0m │ \u001b[32m▁█▇▃▃▁\u001b[0m │  │\n",
              "│ │ \u001b[38;5;141mfebruary_avg_temp      \u001b[0m │ \u001b[36m     0\u001b[0m │ \u001b[36m    0\u001b[0m │ \u001b[36m     36\u001b[0m │ \u001b[36m    8.9\u001b[0m │ \u001b[36m   13\u001b[0m │ \u001b[36m    32\u001b[0m │ \u001b[36m     41\u001b[0m │ \u001b[36m     65\u001b[0m │ \u001b[32m▁▃█▂▁ \u001b[0m │  │\n",
              "│ │ \u001b[38;5;141mfebruary_max_temp      \u001b[0m │ \u001b[36m     0\u001b[0m │ \u001b[36m    0\u001b[0m │ \u001b[36m     58\u001b[0m │ \u001b[36m    8.4\u001b[0m │ \u001b[36m   38\u001b[0m │ \u001b[36m    55\u001b[0m │ \u001b[36m     62\u001b[0m │ \u001b[36m     89\u001b[0m │ \u001b[32m▂ █▂▁ \u001b[0m │  │\n",
              "│ │ \u001b[38;5;141mmarch_min_temp         \u001b[0m │ \u001b[36m     0\u001b[0m │ \u001b[36m    0\u001b[0m │ \u001b[36m     22\u001b[0m │ \u001b[36m     10\u001b[0m │ \u001b[36m   -9\u001b[0m │ \u001b[36m    13\u001b[0m │ \u001b[36m     27\u001b[0m │ \u001b[36m     52\u001b[0m │ \u001b[32m▁▁▅█▁ \u001b[0m │  │\n",
              "│ │ \u001b[38;5;141mmarch_avg_temp         \u001b[0m │ \u001b[36m     0\u001b[0m │ \u001b[36m    0\u001b[0m │ \u001b[36m     44\u001b[0m │ \u001b[36m    6.7\u001b[0m │ \u001b[36m   26\u001b[0m │ \u001b[36m    38\u001b[0m │ \u001b[36m     49\u001b[0m │ \u001b[36m     70\u001b[0m │ \u001b[32m █▁▇▁ \u001b[0m │  │\n",
              "│ │ \u001b[38;5;141mmarch_max_temp         \u001b[0m │ \u001b[36m     0\u001b[0m │ \u001b[36m    0\u001b[0m │ \u001b[36m     71\u001b[0m │ \u001b[36m    7.7\u001b[0m │ \u001b[36m   53\u001b[0m │ \u001b[36m    62\u001b[0m │ \u001b[36m     78\u001b[0m │ \u001b[36m     95\u001b[0m │ \u001b[32m▂▆▃█▁ \u001b[0m │  │\n",
              "│ │ \u001b[38;5;141mapril_min_temp         \u001b[0m │ \u001b[36m     0\u001b[0m │ \u001b[36m    0\u001b[0m │ \u001b[36m     32\u001b[0m │ \u001b[36m    5.6\u001b[0m │ \u001b[36m   15\u001b[0m │ \u001b[36m    26\u001b[0m │ \u001b[36m     37\u001b[0m │ \u001b[36m     52\u001b[0m │ \u001b[32m ▅█▄▁▁\u001b[0m │  │\n",
              "│ │ \u001b[38;5;141mapril_avg_temp         \u001b[0m │ \u001b[36m     0\u001b[0m │ \u001b[36m    0\u001b[0m │ \u001b[36m     54\u001b[0m │ \u001b[36m    2.5\u001b[0m │ \u001b[36m   40\u001b[0m │ \u001b[36m    52\u001b[0m │ \u001b[36m     55\u001b[0m │ \u001b[36m     74\u001b[0m │ \u001b[32m  ▁█▁ \u001b[0m │  │\n",
              "│ │ \u001b[38;5;141mapril_max_temp         \u001b[0m │ \u001b[36m     0\u001b[0m │ \u001b[36m    0\u001b[0m │ \u001b[36m     83\u001b[0m │ \u001b[36m    4.1\u001b[0m │ \u001b[36m   62\u001b[0m │ \u001b[36m    80\u001b[0m │ \u001b[36m     87\u001b[0m │ \u001b[36m    100\u001b[0m │ \u001b[32m  █▃▁ \u001b[0m │  │\n",
              "│ │ \u001b[38;5;141mmay_min_temp           \u001b[0m │ \u001b[36m     0\u001b[0m │ \u001b[36m    0\u001b[0m │ \u001b[36m     45\u001b[0m │ \u001b[36m    4.2\u001b[0m │ \u001b[36m   23\u001b[0m │ \u001b[36m    42\u001b[0m │ \u001b[36m     49\u001b[0m │ \u001b[36m     58\u001b[0m │ \u001b[32m  ▂█▇ \u001b[0m │  │\n",
              "│ │ \u001b[38;5;141mmay_avg_temp           \u001b[0m │ \u001b[36m     0\u001b[0m │ \u001b[36m    0\u001b[0m │ \u001b[36m     64\u001b[0m │ \u001b[36m    2.8\u001b[0m │ \u001b[36m   47\u001b[0m │ \u001b[36m    63\u001b[0m │ \u001b[36m     65\u001b[0m │ \u001b[36m     82\u001b[0m │ \u001b[32m   █▄ \u001b[0m │  │\n",
              "│ │ \u001b[38;5;141mmay_max_temp           \u001b[0m │ \u001b[36m     0\u001b[0m │ \u001b[36m    0\u001b[0m │ \u001b[36m     89\u001b[0m │ \u001b[36m    2.9\u001b[0m │ \u001b[36m   64\u001b[0m │ \u001b[36m    88\u001b[0m │ \u001b[36m     91\u001b[0m │ \u001b[36m    110\u001b[0m │ \u001b[32m   ▂█ \u001b[0m │  │\n",
              "│ │ \u001b[38;5;141mjune_min_temp          \u001b[0m │ \u001b[36m     0\u001b[0m │ \u001b[36m    0\u001b[0m │ \u001b[36m     51\u001b[0m │ \u001b[36m    3.4\u001b[0m │ \u001b[36m   30\u001b[0m │ \u001b[36m    50\u001b[0m │ \u001b[36m     53\u001b[0m │ \u001b[36m     68\u001b[0m │ \u001b[32m  ▁█▁ \u001b[0m │  │\n",
              "│ │ \u001b[38;5;141mjune_avg_temp          \u001b[0m │ \u001b[36m     0\u001b[0m │ \u001b[36m    0\u001b[0m │ \u001b[36m     71\u001b[0m │ \u001b[36m    2.9\u001b[0m │ \u001b[36m   54\u001b[0m │ \u001b[36m    71\u001b[0m │ \u001b[36m     72\u001b[0m │ \u001b[36m     90\u001b[0m │ \u001b[32m  ▁▅█ \u001b[0m │  │\n",
              "│ │ \u001b[38;5;141mjune_max_temp          \u001b[0m │ \u001b[36m     0\u001b[0m │ \u001b[36m    0\u001b[0m │ \u001b[36m     91\u001b[0m │ \u001b[36m    3.6\u001b[0m │ \u001b[36m   67\u001b[0m │ \u001b[36m    89\u001b[0m │ \u001b[36m     94\u001b[0m │ \u001b[36m    120\u001b[0m │ \u001b[32m   █▃ \u001b[0m │  │\n",
              "│ │ \u001b[38;5;141mjuly_min_temp          \u001b[0m │ \u001b[36m     0\u001b[0m │ \u001b[36m    0\u001b[0m │ \u001b[36m     61\u001b[0m │ \u001b[36m    4.2\u001b[0m │ \u001b[36m   37\u001b[0m │ \u001b[36m    57\u001b[0m │ \u001b[36m     63\u001b[0m │ \u001b[36m     74\u001b[0m │ \u001b[32m  ▃▂█ \u001b[0m │  │\n",
              "│ │ \u001b[38;5;141mjuly_avg_temp          \u001b[0m │ \u001b[36m     0\u001b[0m │ \u001b[36m    0\u001b[0m │ \u001b[36m     77\u001b[0m │ \u001b[36m    4.1\u001b[0m │ \u001b[36m   55\u001b[0m │ \u001b[36m    76\u001b[0m │ \u001b[36m     79\u001b[0m │ \u001b[36m     94\u001b[0m │ \u001b[32m  ▁▁█ \u001b[0m │  │\n",
              "│ │ \u001b[38;5;141mjuly_max_temp          \u001b[0m │ \u001b[36m     0\u001b[0m │ \u001b[36m    0\u001b[0m │ \u001b[36m     96\u001b[0m │ \u001b[36m    4.2\u001b[0m │ \u001b[36m   65\u001b[0m │ \u001b[36m    95\u001b[0m │ \u001b[36m     98\u001b[0m │ \u001b[36m    120\u001b[0m │ \u001b[32m  ▁█▂ \u001b[0m │  │\n",
              "│ │ \u001b[38;5;141maugust_min_temp        \u001b[0m │ \u001b[36m     0\u001b[0m │ \u001b[36m    0\u001b[0m │ \u001b[36m     59\u001b[0m │ \u001b[36m    4.4\u001b[0m │ \u001b[36m   31\u001b[0m │ \u001b[36m    57\u001b[0m │ \u001b[36m     61\u001b[0m │ \u001b[36m     77\u001b[0m │ \u001b[32m  ▂█▂ \u001b[0m │  │\n",
              "│ │ \u001b[38;5;141maugust_avg_temp        \u001b[0m │ \u001b[36m     0\u001b[0m │ \u001b[36m    0\u001b[0m │ \u001b[36m     75\u001b[0m │ \u001b[36m    3.8\u001b[0m │ \u001b[36m   57\u001b[0m │ \u001b[36m    75\u001b[0m │ \u001b[36m     79\u001b[0m │ \u001b[36m     95\u001b[0m │ \u001b[32m  ▂▆█ \u001b[0m │  │\n",
              "│ │ \u001b[38;5;141maugust_max_temp        \u001b[0m │ \u001b[36m     0\u001b[0m │ \u001b[36m    0\u001b[0m │ \u001b[36m     93\u001b[0m │ \u001b[36m    4.1\u001b[0m │ \u001b[36m   66\u001b[0m │ \u001b[36m    90\u001b[0m │ \u001b[36m     95\u001b[0m │ \u001b[36m    120\u001b[0m │ \u001b[32m  ▄█▁ \u001b[0m │  │\n",
              "│ │ \u001b[38;5;141mseptember_min_temp     \u001b[0m │ \u001b[36m     0\u001b[0m │ \u001b[36m    0\u001b[0m │ \u001b[36m     51\u001b[0m │ \u001b[36m    4.3\u001b[0m │ \u001b[36m   26\u001b[0m │ \u001b[36m    47\u001b[0m │ \u001b[36m     54\u001b[0m │ \u001b[36m     65\u001b[0m │ \u001b[32m  ▂▃█ \u001b[0m │  │\n",
              "│ │ \u001b[38;5;141mseptember_avg_temp     \u001b[0m │ \u001b[36m     0\u001b[0m │ \u001b[36m    0\u001b[0m │ \u001b[36m     70\u001b[0m │ \u001b[36m    3.6\u001b[0m │ \u001b[36m   54\u001b[0m │ \u001b[36m    68\u001b[0m │ \u001b[36m     72\u001b[0m │ \u001b[36m     90\u001b[0m │ \u001b[32m  ▁█▂ \u001b[0m │  │\n",
              "│ │ \u001b[38;5;141mseptember_max_temp     \u001b[0m │ \u001b[36m     0\u001b[0m │ \u001b[36m    0\u001b[0m │ \u001b[36m     92\u001b[0m │ \u001b[36m      5\u001b[0m │ \u001b[36m   64\u001b[0m │ \u001b[36m    91\u001b[0m │ \u001b[36m     96\u001b[0m │ \u001b[36m    110\u001b[0m │ \u001b[32m ▁▁█▄ \u001b[0m │  │\n",
              "│ │ \u001b[38;5;141moctober_min_temp       \u001b[0m │ \u001b[36m     0\u001b[0m │ \u001b[36m    0\u001b[0m │ \u001b[36m     38\u001b[0m │ \u001b[36m    5.1\u001b[0m │ \u001b[36m   18\u001b[0m │ \u001b[36m    35\u001b[0m │ \u001b[36m     40\u001b[0m │ \u001b[36m     61\u001b[0m │ \u001b[32m  ▁█▄ \u001b[0m │  │\n",
              "│ │ \u001b[38;5;141moctober_avg_temp       \u001b[0m │ \u001b[36m     0\u001b[0m │ \u001b[36m    0\u001b[0m │ \u001b[36m     59\u001b[0m │ \u001b[36m    2.6\u001b[0m │ \u001b[36m   45\u001b[0m │ \u001b[36m    58\u001b[0m │ \u001b[36m     60\u001b[0m │ \u001b[36m     81\u001b[0m │ \u001b[32m  ▁█  \u001b[0m │  │\n",
              "│ │ \u001b[38;5;141moctober_max_temp       \u001b[0m │ \u001b[36m     0\u001b[0m │ \u001b[36m    0\u001b[0m │ \u001b[36m     81\u001b[0m │ \u001b[36m    5.6\u001b[0m │ \u001b[36m   59\u001b[0m │ \u001b[36m    78\u001b[0m │ \u001b[36m     85\u001b[0m │ \u001b[36m    110\u001b[0m │ \u001b[32m  ▁█▆ \u001b[0m │  │\n",
              "│ │ \u001b[38;5;141mnovember_min_temp      \u001b[0m │ \u001b[36m     0\u001b[0m │ \u001b[36m    0\u001b[0m │ \u001b[36m     29\u001b[0m │ \u001b[36m    7.2\u001b[0m │ \u001b[36m    4\u001b[0m │ \u001b[36m    23\u001b[0m │ \u001b[36m     34\u001b[0m │ \u001b[36m     52\u001b[0m │ \u001b[32m ▁▆█▁ \u001b[0m │  │\n",
              "│ │ \u001b[38;5;141mnovember_avg_temp      \u001b[0m │ \u001b[36m     0\u001b[0m │ \u001b[36m    0\u001b[0m │ \u001b[36m     48\u001b[0m │ \u001b[36m    4.1\u001b[0m │ \u001b[36m   31\u001b[0m │ \u001b[36m    45\u001b[0m │ \u001b[36m     51\u001b[0m │ \u001b[36m     67\u001b[0m │ \u001b[32m  █▇▁ \u001b[0m │  │\n",
              "│ │ \u001b[38;5;141mnovember_max_temp      \u001b[0m │ \u001b[36m     0\u001b[0m │ \u001b[36m    0\u001b[0m │ \u001b[36m     71\u001b[0m │ \u001b[36m    4.4\u001b[0m │ \u001b[36m   53\u001b[0m │ \u001b[36m    69\u001b[0m │ \u001b[36m     74\u001b[0m │ \u001b[36m     96\u001b[0m │ \u001b[32m  ▁█▂ \u001b[0m │  │\n",
              "│ │ \u001b[38;5;141mdecember_min_temp      \u001b[0m │ \u001b[36m     0\u001b[0m │ \u001b[36m    0\u001b[0m │ \u001b[36m     23\u001b[0m │ \u001b[36m      9\u001b[0m │ \u001b[36m  -16\u001b[0m │ \u001b[36m    17\u001b[0m │ \u001b[36m     28\u001b[0m │ \u001b[36m     44\u001b[0m │ \u001b[32m▁ ▁██▃\u001b[0m │  │\n",
              "│ │ \u001b[38;5;141mdecember_avg_temp      \u001b[0m │ \u001b[36m     0\u001b[0m │ \u001b[36m    0\u001b[0m │ \u001b[36m     42\u001b[0m │ \u001b[36m    5.9\u001b[0m │ \u001b[36m   24\u001b[0m │ \u001b[36m    39\u001b[0m │ \u001b[36m     43\u001b[0m │ \u001b[36m     62\u001b[0m │ \u001b[32m  █▂▂ \u001b[0m │  │\n",
              "│ │ \u001b[38;5;141mdecember_max_temp      \u001b[0m │ \u001b[36m     0\u001b[0m │ \u001b[36m    0\u001b[0m │ \u001b[36m     64\u001b[0m │ \u001b[36m    6.1\u001b[0m │ \u001b[36m   42\u001b[0m │ \u001b[36m    60\u001b[0m │ \u001b[36m     71\u001b[0m │ \u001b[36m     86\u001b[0m │ \u001b[32m ▂█▇▄ \u001b[0m │  │\n",
              "│ │ \u001b[38;5;141mcooling_degree_days    \u001b[0m │ \u001b[36m     0\u001b[0m │ \u001b[36m    0\u001b[0m │ \u001b[36m   1200\u001b[0m │ \u001b[36m    390\u001b[0m │ \u001b[36m    0\u001b[0m │ \u001b[36m  1100\u001b[0m │ \u001b[36m   1500\u001b[0m │ \u001b[36m   4900\u001b[0m │ \u001b[32m  ▂█  \u001b[0m │  │\n",
              "│ │ \u001b[38;5;141mheating_degree_days    \u001b[0m │ \u001b[36m     0\u001b[0m │ \u001b[36m    0\u001b[0m │ \u001b[36m   4300\u001b[0m │ \u001b[36m    820\u001b[0m │ \u001b[36m  400\u001b[0m │ \u001b[36m  4000\u001b[0m │ \u001b[36m   4700\u001b[0m │ \u001b[36m   7900\u001b[0m │ \u001b[32m ▁▃█▁ \u001b[0m │  │\n",
              "│ │ \u001b[38;5;141mprecipitation_inches   \u001b[0m │ \u001b[36m     0\u001b[0m │ \u001b[36m    0\u001b[0m │ \u001b[36m     42\u001b[0m │ \u001b[36m     11\u001b[0m │ \u001b[36m    0\u001b[0m │ \u001b[36m    39\u001b[0m │ \u001b[36m     46\u001b[0m │ \u001b[36m    110\u001b[0m │ \u001b[32m   █  \u001b[0m │  │\n",
              "│ │ \u001b[38;5;141msnowfall_inches        \u001b[0m │ \u001b[36m     0\u001b[0m │ \u001b[36m    0\u001b[0m │ \u001b[36m     29\u001b[0m │ \u001b[36m     18\u001b[0m │ \u001b[36m    0\u001b[0m │ \u001b[36m   9.6\u001b[0m │ \u001b[36m     49\u001b[0m │ \u001b[36m    130\u001b[0m │ \u001b[32m ▇█▆  \u001b[0m │  │\n",
              "│ │ \u001b[38;5;141msnowdepth_inches       \u001b[0m │ \u001b[36m     0\u001b[0m │ \u001b[36m    0\u001b[0m │ \u001b[36m    160\u001b[0m │ \u001b[36m    180\u001b[0m │ \u001b[36m    0\u001b[0m │ \u001b[36m    10\u001b[0m │ \u001b[36m    380\u001b[0m │ \u001b[36m   1300\u001b[0m │ \u001b[32m █▂▂  \u001b[0m │  │\n",
              "│ │ \u001b[38;5;141mavg_temp               \u001b[0m │ \u001b[36m     0\u001b[0m │ \u001b[36m    0\u001b[0m │ \u001b[36m     56\u001b[0m │ \u001b[36m    2.2\u001b[0m │ \u001b[36m   45\u001b[0m │ \u001b[36m    55\u001b[0m │ \u001b[36m     57\u001b[0m │ \u001b[36m     77\u001b[0m │ \u001b[32m  ▃█  \u001b[0m │  │\n",
              "│ │ \u001b[38;5;141mdays_below_30F         \u001b[0m │ \u001b[36m     0\u001b[0m │ \u001b[36m    0\u001b[0m │ \u001b[36m     49\u001b[0m │ \u001b[36m     28\u001b[0m │ \u001b[36m    0\u001b[0m │ \u001b[36m    22\u001b[0m │ \u001b[36m     66\u001b[0m │ \u001b[36m    170\u001b[0m │ \u001b[32m ▇██▂ \u001b[0m │  │\n",
              "│ │ \u001b[38;5;141mdays_below_20F         \u001b[0m │ \u001b[36m     0\u001b[0m │ \u001b[36m    0\u001b[0m │ \u001b[36m     17\u001b[0m │ \u001b[36m     14\u001b[0m │ \u001b[36m    0\u001b[0m │ \u001b[36m     5\u001b[0m │ \u001b[36m     26\u001b[0m │ \u001b[36m     93\u001b[0m │ \u001b[32m █▃▂  \u001b[0m │  │\n",
              "│ │ \u001b[38;5;141mdays_below_10F         \u001b[0m │ \u001b[36m     0\u001b[0m │ \u001b[36m    0\u001b[0m │ \u001b[36m    4.9\u001b[0m │ \u001b[36m    7.1\u001b[0m │ \u001b[36m    0\u001b[0m │ \u001b[36m     0\u001b[0m │ \u001b[36m      7\u001b[0m │ \u001b[36m     59\u001b[0m │ \u001b[32m  █▁  \u001b[0m │  │\n",
              "│ │ \u001b[38;5;141mdays_below_0F          \u001b[0m │ \u001b[36m     0\u001b[0m │ \u001b[36m    0\u001b[0m │ \u001b[36m   0.88\u001b[0m │ \u001b[36m    2.9\u001b[0m │ \u001b[36m    0\u001b[0m │ \u001b[36m     0\u001b[0m │ \u001b[36m      0\u001b[0m │ \u001b[36m     31\u001b[0m │ \u001b[32m  █   \u001b[0m │  │\n",
              "│ │ \u001b[38;5;141mdays_above_80F         \u001b[0m │ \u001b[36m     0\u001b[0m │ \u001b[36m    0\u001b[0m │ \u001b[36m     83\u001b[0m │ \u001b[36m     25\u001b[0m │ \u001b[36m    0\u001b[0m │ \u001b[36m    72\u001b[0m │ \u001b[36m     97\u001b[0m │ \u001b[36m    260\u001b[0m │ \u001b[32m ▂▇█  \u001b[0m │  │\n",
              "│ │ \u001b[38;5;141mdays_above_90F         \u001b[0m │ \u001b[36m     0\u001b[0m │ \u001b[36m    0\u001b[0m │ \u001b[36m     14\u001b[0m │ \u001b[36m     11\u001b[0m │ \u001b[36m    0\u001b[0m │ \u001b[36m     6\u001b[0m │ \u001b[36m     17\u001b[0m │ \u001b[36m    180\u001b[0m │ \u001b[32m  █▁  \u001b[0m │  │\n",
              "│ │ \u001b[38;5;141mdays_above_100F        \u001b[0m │ \u001b[36m     0\u001b[0m │ \u001b[36m    0\u001b[0m │ \u001b[36m   0.28\u001b[0m │ \u001b[36m    2.3\u001b[0m │ \u001b[36m    0\u001b[0m │ \u001b[36m     0\u001b[0m │ \u001b[36m      0\u001b[0m │ \u001b[36m    120\u001b[0m │ \u001b[32m  █   \u001b[0m │  │\n",
              "│ │ \u001b[38;5;141mdays_above_110F        \u001b[0m │ \u001b[36m     0\u001b[0m │ \u001b[36m    0\u001b[0m │ \u001b[36m 0.0024\u001b[0m │ \u001b[36m   0.14\u001b[0m │ \u001b[36m    0\u001b[0m │ \u001b[36m     0\u001b[0m │ \u001b[36m      0\u001b[0m │ \u001b[36m     16\u001b[0m │ \u001b[32m  █   \u001b[0m │  │\n",
              "│ │ \u001b[38;5;141mdirection_max_wind_s   \u001b[0m │ \u001b[36m 41000\u001b[0m │ \u001b[36m   54\u001b[0m │ \u001b[36m     67\u001b[0m │ \u001b[36m    130\u001b[0m │ \u001b[36m    1\u001b[0m │ \u001b[36m     1\u001b[0m │ \u001b[36m      1\u001b[0m │ \u001b[36m    360\u001b[0m │ \u001b[32m█    ▂\u001b[0m │  │\n",
              "│ │ \u001b[38;5;141mdirection_peak_wind_   \u001b[0m │ \u001b[36m 42000\u001b[0m │ \u001b[36m   55\u001b[0m │ \u001b[36m     63\u001b[0m │ \u001b[36m    130\u001b[0m │ \u001b[36m    1\u001b[0m │ \u001b[36m     1\u001b[0m │ \u001b[36m      1\u001b[0m │ \u001b[36m    360\u001b[0m │ \u001b[32m█    ▂\u001b[0m │  │\n",
              "│ │ \u001b[38;5;141mmax_wind_speed         \u001b[0m │ \u001b[36m 41000\u001b[0m │ \u001b[36m   54\u001b[0m │ \u001b[36m    4.2\u001b[0m │ \u001b[36m    6.5\u001b[0m │ \u001b[36m    1\u001b[0m │ \u001b[36m     1\u001b[0m │ \u001b[36m      1\u001b[0m │ \u001b[36m     23\u001b[0m │ \u001b[32m█  ▁▁ \u001b[0m │  │\n",
              "│ │ \u001b[38;5;141mdays_with_fog          \u001b[0m │ \u001b[36m 46000\u001b[0m │ \u001b[36m   60\u001b[0m │ \u001b[36m    110\u001b[0m │ \u001b[36m     51\u001b[0m │ \u001b[36m   12\u001b[0m │ \u001b[36m    88\u001b[0m │ \u001b[36m    130\u001b[0m │ \u001b[36m    310\u001b[0m │ \u001b[32m ▂█▅  \u001b[0m │  │\n",
              "│ │ \u001b[38;5;141msite_eui               \u001b[0m │ \u001b[36m     0\u001b[0m │ \u001b[36m    0\u001b[0m │ \u001b[36m     83\u001b[0m │ \u001b[36m     58\u001b[0m │ \u001b[36m    1\u001b[0m │ \u001b[36m    55\u001b[0m │ \u001b[36m     97\u001b[0m │ \u001b[36m   1000\u001b[0m │ \u001b[32m  █   \u001b[0m │  │\n",
              "│ │ \u001b[38;5;141mid                     \u001b[0m │ \u001b[36m     0\u001b[0m │ \u001b[36m    0\u001b[0m │ \u001b[36m  38000\u001b[0m │ \u001b[36m  22000\u001b[0m │ \u001b[36m    0\u001b[0m │ \u001b[36m 19000\u001b[0m │ \u001b[36m  57000\u001b[0m │ \u001b[36m  76000\u001b[0m │ \u001b[32m██████\u001b[0m │  │\n",
              "│ └─────────────────────────┴────────┴───────┴─────────┴─────────┴───────┴────────┴─────────┴─────────┴────────┘  │\n",
              "│ \u001b[3m                                                    string                                                    \u001b[0m  │\n",
              "│ ┏━━━━━━━━━━━━━━━━━━━━━━━━━━━━━━━┳━━━━━━━━┳━━━━━━━━━━━━┳━━━━━━━━━━━━━━━━━━━━━━━━━━━━━┳━━━━━━━━━━━━━━━━━━━━━━━━┓  │\n",
              "│ ┃\u001b[1m \u001b[0m\u001b[1mcolumn_name                  \u001b[0m\u001b[1m \u001b[0m┃\u001b[1m \u001b[0m\u001b[1mNA    \u001b[0m\u001b[1m \u001b[0m┃\u001b[1m \u001b[0m\u001b[1mNA %      \u001b[0m\u001b[1m \u001b[0m┃\u001b[1m \u001b[0m\u001b[1mwords per row              \u001b[0m\u001b[1m \u001b[0m┃\u001b[1m \u001b[0m\u001b[1mtotal words           \u001b[0m\u001b[1m \u001b[0m┃  │\n",
              "│ ┡━━━━━━━━━━━━━━━━━━━━━━━━━━━━━━━╇━━━━━━━━╇━━━━━━━━━━━━╇━━━━━━━━━━━━━━━━━━━━━━━━━━━━━╇━━━━━━━━━━━━━━━━━━━━━━━━┩  │\n",
              "│ │ \u001b[38;5;141mState_Factor                 \u001b[0m │ \u001b[36m     0\u001b[0m │ \u001b[36m         0\u001b[0m │ \u001b[36m                          1\u001b[0m │ \u001b[36m                 76000\u001b[0m │  │\n",
              "│ │ \u001b[38;5;141mbuilding_class               \u001b[0m │ \u001b[36m     0\u001b[0m │ \u001b[36m         0\u001b[0m │ \u001b[36m                          1\u001b[0m │ \u001b[36m                 76000\u001b[0m │  │\n",
              "│ │ \u001b[38;5;141mfacility_type                \u001b[0m │ \u001b[36m     0\u001b[0m │ \u001b[36m         0\u001b[0m │ \u001b[36m                          1\u001b[0m │ \u001b[36m                 76000\u001b[0m │  │\n",
              "│ └───────────────────────────────┴────────┴────────────┴─────────────────────────────┴────────────────────────┘  │\n",
              "╰────────────────────────────────────────────────────── End ──────────────────────────────────────────────────────╯\n"
            ],
            "text/html": [
              "<pre style=\"white-space:pre;overflow-x:auto;line-height:normal;font-family:Menlo,'DejaVu Sans Mono',consolas,'Courier New',monospace\">╭──────────────────────────────────────────────── skimpy summary ─────────────────────────────────────────────────╮\n",
              "│ <span style=\"font-style: italic\">         Data Summary         </span> <span style=\"font-style: italic\">      Data Types       </span>                                                          │\n",
              "│ ┏━━━━━━━━━━━━━━━━━━━┳━━━━━━━━┓ ┏━━━━━━━━━━━━━┳━━━━━━━┓                                                          │\n",
              "│ ┃<span style=\"color: #008080; text-decoration-color: #008080; font-weight: bold\"> dataframe         </span>┃<span style=\"color: #008080; text-decoration-color: #008080; font-weight: bold\"> Values </span>┃ ┃<span style=\"color: #008080; text-decoration-color: #008080; font-weight: bold\"> Column Type </span>┃<span style=\"color: #008080; text-decoration-color: #008080; font-weight: bold\"> Count </span>┃                                                          │\n",
              "│ ┡━━━━━━━━━━━━━━━━━━━╇━━━━━━━━┩ ┡━━━━━━━━━━━━━╇━━━━━━━┩                                                          │\n",
              "│ │ Number of rows    │ 75757  │ │ int64       │ 37    │                                                          │\n",
              "│ │ Number of columns │ 64     │ │ float64     │ 24    │                                                          │\n",
              "│ └───────────────────┴────────┘ │ string      │ 3     │                                                          │\n",
              "│                                └─────────────┴───────┘                                                          │\n",
              "│ <span style=\"font-style: italic\">                                                    number                                                    </span>  │\n",
              "│ ┏━━━━━━━━━━━━━━━━━━━━━━━━━┳━━━━━━━━┳━━━━━━━┳━━━━━━━━━┳━━━━━━━━━┳━━━━━━━┳━━━━━━━━┳━━━━━━━━━┳━━━━━━━━━┳━━━━━━━━┓  │\n",
              "│ ┃<span style=\"font-weight: bold\"> column_name             </span>┃<span style=\"font-weight: bold\"> NA     </span>┃<span style=\"font-weight: bold\"> NA %  </span>┃<span style=\"font-weight: bold\"> mean    </span>┃<span style=\"font-weight: bold\"> sd      </span>┃<span style=\"font-weight: bold\"> p0    </span>┃<span style=\"font-weight: bold\"> p25    </span>┃<span style=\"font-weight: bold\"> p75     </span>┃<span style=\"font-weight: bold\"> p100    </span>┃<span style=\"font-weight: bold\"> hist   </span>┃  │\n",
              "│ ┡━━━━━━━━━━━━━━━━━━━━━━━━━╇━━━━━━━━╇━━━━━━━╇━━━━━━━━━╇━━━━━━━━━╇━━━━━━━╇━━━━━━━━╇━━━━━━━━━╇━━━━━━━━━╇━━━━━━━━┩  │\n",
              "│ │ <span style=\"color: #af87ff; text-decoration-color: #af87ff\">Year_Factor            </span> │ <span style=\"color: #008080; text-decoration-color: #008080\">     0</span> │ <span style=\"color: #008080; text-decoration-color: #008080\">    0</span> │ <span style=\"color: #008080; text-decoration-color: #008080\">    4.4</span> │ <span style=\"color: #008080; text-decoration-color: #008080\">    1.5</span> │ <span style=\"color: #008080; text-decoration-color: #008080\">    1</span> │ <span style=\"color: #008080; text-decoration-color: #008080\">     3</span> │ <span style=\"color: #008080; text-decoration-color: #008080\">      6</span> │ <span style=\"color: #008080; text-decoration-color: #008080\">      6</span> │ <span style=\"color: #008000; text-decoration-color: #008000\">▁▃▄▅▇█</span> │  │\n",
              "│ │ <span style=\"color: #af87ff; text-decoration-color: #af87ff\">floor_area             </span> │ <span style=\"color: #008080; text-decoration-color: #008080\">     0</span> │ <span style=\"color: #008080; text-decoration-color: #008080\">    0</span> │ <span style=\"color: #008080; text-decoration-color: #008080\"> 170000</span> │ <span style=\"color: #008080; text-decoration-color: #008080\"> 250000</span> │ <span style=\"color: #008080; text-decoration-color: #008080\">  940</span> │ <span style=\"color: #008080; text-decoration-color: #008080\"> 62000</span> │ <span style=\"color: #008080; text-decoration-color: #008080\"> 170000</span> │ <span style=\"color: #008080; text-decoration-color: #008080\">6400000</span> │ <span style=\"color: #008000; text-decoration-color: #008000\">  █   </span> │  │\n",
              "│ │ <span style=\"color: #af87ff; text-decoration-color: #af87ff\">year_built             </span> │ <span style=\"color: #008080; text-decoration-color: #008080\">  1800</span> │ <span style=\"color: #008080; text-decoration-color: #008080\">  2.4</span> │ <span style=\"color: #008080; text-decoration-color: #008080\">   2000</span> │ <span style=\"color: #008080; text-decoration-color: #008080\">     37</span> │ <span style=\"color: #008080; text-decoration-color: #008080\">    0</span> │ <span style=\"color: #008080; text-decoration-color: #008080\">  1900</span> │ <span style=\"color: #008080; text-decoration-color: #008080\">   2000</span> │ <span style=\"color: #008080; text-decoration-color: #008080\">   2000</span> │ <span style=\"color: #008000; text-decoration-color: #008000\">     █</span> │  │\n",
              "│ │ <span style=\"color: #af87ff; text-decoration-color: #af87ff\">energy_star_rating     </span> │ <span style=\"color: #008080; text-decoration-color: #008080\"> 27000</span> │ <span style=\"color: #008080; text-decoration-color: #008080\">   35</span> │ <span style=\"color: #008080; text-decoration-color: #008080\">     61</span> │ <span style=\"color: #008080; text-decoration-color: #008080\">     29</span> │ <span style=\"color: #008080; text-decoration-color: #008080\">    0</span> │ <span style=\"color: #008080; text-decoration-color: #008080\">    40</span> │ <span style=\"color: #008080; text-decoration-color: #008080\">     85</span> │ <span style=\"color: #008080; text-decoration-color: #008080\">    100</span> │ <span style=\"color: #008000; text-decoration-color: #008000\">▃▃▄▅▇█</span> │  │\n",
              "│ │ <span style=\"color: #af87ff; text-decoration-color: #af87ff\">ELEVATION              </span> │ <span style=\"color: #008080; text-decoration-color: #008080\">     0</span> │ <span style=\"color: #008080; text-decoration-color: #008080\">    0</span> │ <span style=\"color: #008080; text-decoration-color: #008080\">     40</span> │ <span style=\"color: #008080; text-decoration-color: #008080\">     61</span> │ <span style=\"color: #008080; text-decoration-color: #008080\"> -6.4</span> │ <span style=\"color: #008080; text-decoration-color: #008080\">    12</span> │ <span style=\"color: #008080; text-decoration-color: #008080\">     43</span> │ <span style=\"color: #008080; text-decoration-color: #008080\">   1900</span> │ <span style=\"color: #008000; text-decoration-color: #008000\">  █   </span> │  │\n",
              "│ │ <span style=\"color: #af87ff; text-decoration-color: #af87ff\">january_min_temp       </span> │ <span style=\"color: #008080; text-decoration-color: #008080\">     0</span> │ <span style=\"color: #008080; text-decoration-color: #008080\">    0</span> │ <span style=\"color: #008080; text-decoration-color: #008080\">     11</span> │ <span style=\"color: #008080; text-decoration-color: #008080\">    9.4</span> │ <span style=\"color: #008080; text-decoration-color: #008080\">  -19</span> │ <span style=\"color: #008080; text-decoration-color: #008080\">     6</span> │ <span style=\"color: #008080; text-decoration-color: #008080\">     13</span> │ <span style=\"color: #008080; text-decoration-color: #008080\">     49</span> │ <span style=\"color: #008000; text-decoration-color: #008000\"> ▁█ ▁ </span> │  │\n",
              "│ │ <span style=\"color: #af87ff; text-decoration-color: #af87ff\">january_avg_temp       </span> │ <span style=\"color: #008080; text-decoration-color: #008080\">     0</span> │ <span style=\"color: #008080; text-decoration-color: #008080\">    0</span> │ <span style=\"color: #008080; text-decoration-color: #008080\">     34</span> │ <span style=\"color: #008080; text-decoration-color: #008080\">      7</span> │ <span style=\"color: #008080; text-decoration-color: #008080\">   11</span> │ <span style=\"color: #008080; text-decoration-color: #008080\">    30</span> │ <span style=\"color: #008080; text-decoration-color: #008080\">     37</span> │ <span style=\"color: #008080; text-decoration-color: #008080\">     65</span> │ <span style=\"color: #008000; text-decoration-color: #008000\"> ▃█▁▁ </span> │  │\n",
              "│ │ <span style=\"color: #af87ff; text-decoration-color: #af87ff\">january_max_temp       </span> │ <span style=\"color: #008080; text-decoration-color: #008080\">     0</span> │ <span style=\"color: #008080; text-decoration-color: #008080\">    0</span> │ <span style=\"color: #008080; text-decoration-color: #008080\">     59</span> │ <span style=\"color: #008080; text-decoration-color: #008080\">    5.4</span> │ <span style=\"color: #008080; text-decoration-color: #008080\">   42</span> │ <span style=\"color: #008080; text-decoration-color: #008080\">    56</span> │ <span style=\"color: #008080; text-decoration-color: #008080\">     62</span> │ <span style=\"color: #008080; text-decoration-color: #008080\">     91</span> │ <span style=\"color: #008000; text-decoration-color: #008000\"> ▁▅█▁ </span> │  │\n",
              "│ │ <span style=\"color: #af87ff; text-decoration-color: #af87ff\">february_min_temp      </span> │ <span style=\"color: #008080; text-decoration-color: #008080\">     0</span> │ <span style=\"color: #008080; text-decoration-color: #008080\">    0</span> │ <span style=\"color: #008080; text-decoration-color: #008080\">     12</span> │ <span style=\"color: #008080; text-decoration-color: #008080\">     13</span> │ <span style=\"color: #008080; text-decoration-color: #008080\">  -13</span> │ <span style=\"color: #008080; text-decoration-color: #008080\">     2</span> │ <span style=\"color: #008080; text-decoration-color: #008080\">     20</span> │ <span style=\"color: #008080; text-decoration-color: #008080\">     48</span> │ <span style=\"color: #008000; text-decoration-color: #008000\">▁█▇▃▃▁</span> │  │\n",
              "│ │ <span style=\"color: #af87ff; text-decoration-color: #af87ff\">february_avg_temp      </span> │ <span style=\"color: #008080; text-decoration-color: #008080\">     0</span> │ <span style=\"color: #008080; text-decoration-color: #008080\">    0</span> │ <span style=\"color: #008080; text-decoration-color: #008080\">     36</span> │ <span style=\"color: #008080; text-decoration-color: #008080\">    8.9</span> │ <span style=\"color: #008080; text-decoration-color: #008080\">   13</span> │ <span style=\"color: #008080; text-decoration-color: #008080\">    32</span> │ <span style=\"color: #008080; text-decoration-color: #008080\">     41</span> │ <span style=\"color: #008080; text-decoration-color: #008080\">     65</span> │ <span style=\"color: #008000; text-decoration-color: #008000\">▁▃█▂▁ </span> │  │\n",
              "│ │ <span style=\"color: #af87ff; text-decoration-color: #af87ff\">february_max_temp      </span> │ <span style=\"color: #008080; text-decoration-color: #008080\">     0</span> │ <span style=\"color: #008080; text-decoration-color: #008080\">    0</span> │ <span style=\"color: #008080; text-decoration-color: #008080\">     58</span> │ <span style=\"color: #008080; text-decoration-color: #008080\">    8.4</span> │ <span style=\"color: #008080; text-decoration-color: #008080\">   38</span> │ <span style=\"color: #008080; text-decoration-color: #008080\">    55</span> │ <span style=\"color: #008080; text-decoration-color: #008080\">     62</span> │ <span style=\"color: #008080; text-decoration-color: #008080\">     89</span> │ <span style=\"color: #008000; text-decoration-color: #008000\">▂ █▂▁ </span> │  │\n",
              "│ │ <span style=\"color: #af87ff; text-decoration-color: #af87ff\">march_min_temp         </span> │ <span style=\"color: #008080; text-decoration-color: #008080\">     0</span> │ <span style=\"color: #008080; text-decoration-color: #008080\">    0</span> │ <span style=\"color: #008080; text-decoration-color: #008080\">     22</span> │ <span style=\"color: #008080; text-decoration-color: #008080\">     10</span> │ <span style=\"color: #008080; text-decoration-color: #008080\">   -9</span> │ <span style=\"color: #008080; text-decoration-color: #008080\">    13</span> │ <span style=\"color: #008080; text-decoration-color: #008080\">     27</span> │ <span style=\"color: #008080; text-decoration-color: #008080\">     52</span> │ <span style=\"color: #008000; text-decoration-color: #008000\">▁▁▅█▁ </span> │  │\n",
              "│ │ <span style=\"color: #af87ff; text-decoration-color: #af87ff\">march_avg_temp         </span> │ <span style=\"color: #008080; text-decoration-color: #008080\">     0</span> │ <span style=\"color: #008080; text-decoration-color: #008080\">    0</span> │ <span style=\"color: #008080; text-decoration-color: #008080\">     44</span> │ <span style=\"color: #008080; text-decoration-color: #008080\">    6.7</span> │ <span style=\"color: #008080; text-decoration-color: #008080\">   26</span> │ <span style=\"color: #008080; text-decoration-color: #008080\">    38</span> │ <span style=\"color: #008080; text-decoration-color: #008080\">     49</span> │ <span style=\"color: #008080; text-decoration-color: #008080\">     70</span> │ <span style=\"color: #008000; text-decoration-color: #008000\"> █▁▇▁ </span> │  │\n",
              "│ │ <span style=\"color: #af87ff; text-decoration-color: #af87ff\">march_max_temp         </span> │ <span style=\"color: #008080; text-decoration-color: #008080\">     0</span> │ <span style=\"color: #008080; text-decoration-color: #008080\">    0</span> │ <span style=\"color: #008080; text-decoration-color: #008080\">     71</span> │ <span style=\"color: #008080; text-decoration-color: #008080\">    7.7</span> │ <span style=\"color: #008080; text-decoration-color: #008080\">   53</span> │ <span style=\"color: #008080; text-decoration-color: #008080\">    62</span> │ <span style=\"color: #008080; text-decoration-color: #008080\">     78</span> │ <span style=\"color: #008080; text-decoration-color: #008080\">     95</span> │ <span style=\"color: #008000; text-decoration-color: #008000\">▂▆▃█▁ </span> │  │\n",
              "│ │ <span style=\"color: #af87ff; text-decoration-color: #af87ff\">april_min_temp         </span> │ <span style=\"color: #008080; text-decoration-color: #008080\">     0</span> │ <span style=\"color: #008080; text-decoration-color: #008080\">    0</span> │ <span style=\"color: #008080; text-decoration-color: #008080\">     32</span> │ <span style=\"color: #008080; text-decoration-color: #008080\">    5.6</span> │ <span style=\"color: #008080; text-decoration-color: #008080\">   15</span> │ <span style=\"color: #008080; text-decoration-color: #008080\">    26</span> │ <span style=\"color: #008080; text-decoration-color: #008080\">     37</span> │ <span style=\"color: #008080; text-decoration-color: #008080\">     52</span> │ <span style=\"color: #008000; text-decoration-color: #008000\"> ▅█▄▁▁</span> │  │\n",
              "│ │ <span style=\"color: #af87ff; text-decoration-color: #af87ff\">april_avg_temp         </span> │ <span style=\"color: #008080; text-decoration-color: #008080\">     0</span> │ <span style=\"color: #008080; text-decoration-color: #008080\">    0</span> │ <span style=\"color: #008080; text-decoration-color: #008080\">     54</span> │ <span style=\"color: #008080; text-decoration-color: #008080\">    2.5</span> │ <span style=\"color: #008080; text-decoration-color: #008080\">   40</span> │ <span style=\"color: #008080; text-decoration-color: #008080\">    52</span> │ <span style=\"color: #008080; text-decoration-color: #008080\">     55</span> │ <span style=\"color: #008080; text-decoration-color: #008080\">     74</span> │ <span style=\"color: #008000; text-decoration-color: #008000\">  ▁█▁ </span> │  │\n",
              "│ │ <span style=\"color: #af87ff; text-decoration-color: #af87ff\">april_max_temp         </span> │ <span style=\"color: #008080; text-decoration-color: #008080\">     0</span> │ <span style=\"color: #008080; text-decoration-color: #008080\">    0</span> │ <span style=\"color: #008080; text-decoration-color: #008080\">     83</span> │ <span style=\"color: #008080; text-decoration-color: #008080\">    4.1</span> │ <span style=\"color: #008080; text-decoration-color: #008080\">   62</span> │ <span style=\"color: #008080; text-decoration-color: #008080\">    80</span> │ <span style=\"color: #008080; text-decoration-color: #008080\">     87</span> │ <span style=\"color: #008080; text-decoration-color: #008080\">    100</span> │ <span style=\"color: #008000; text-decoration-color: #008000\">  █▃▁ </span> │  │\n",
              "│ │ <span style=\"color: #af87ff; text-decoration-color: #af87ff\">may_min_temp           </span> │ <span style=\"color: #008080; text-decoration-color: #008080\">     0</span> │ <span style=\"color: #008080; text-decoration-color: #008080\">    0</span> │ <span style=\"color: #008080; text-decoration-color: #008080\">     45</span> │ <span style=\"color: #008080; text-decoration-color: #008080\">    4.2</span> │ <span style=\"color: #008080; text-decoration-color: #008080\">   23</span> │ <span style=\"color: #008080; text-decoration-color: #008080\">    42</span> │ <span style=\"color: #008080; text-decoration-color: #008080\">     49</span> │ <span style=\"color: #008080; text-decoration-color: #008080\">     58</span> │ <span style=\"color: #008000; text-decoration-color: #008000\">  ▂█▇ </span> │  │\n",
              "│ │ <span style=\"color: #af87ff; text-decoration-color: #af87ff\">may_avg_temp           </span> │ <span style=\"color: #008080; text-decoration-color: #008080\">     0</span> │ <span style=\"color: #008080; text-decoration-color: #008080\">    0</span> │ <span style=\"color: #008080; text-decoration-color: #008080\">     64</span> │ <span style=\"color: #008080; text-decoration-color: #008080\">    2.8</span> │ <span style=\"color: #008080; text-decoration-color: #008080\">   47</span> │ <span style=\"color: #008080; text-decoration-color: #008080\">    63</span> │ <span style=\"color: #008080; text-decoration-color: #008080\">     65</span> │ <span style=\"color: #008080; text-decoration-color: #008080\">     82</span> │ <span style=\"color: #008000; text-decoration-color: #008000\">   █▄ </span> │  │\n",
              "│ │ <span style=\"color: #af87ff; text-decoration-color: #af87ff\">may_max_temp           </span> │ <span style=\"color: #008080; text-decoration-color: #008080\">     0</span> │ <span style=\"color: #008080; text-decoration-color: #008080\">    0</span> │ <span style=\"color: #008080; text-decoration-color: #008080\">     89</span> │ <span style=\"color: #008080; text-decoration-color: #008080\">    2.9</span> │ <span style=\"color: #008080; text-decoration-color: #008080\">   64</span> │ <span style=\"color: #008080; text-decoration-color: #008080\">    88</span> │ <span style=\"color: #008080; text-decoration-color: #008080\">     91</span> │ <span style=\"color: #008080; text-decoration-color: #008080\">    110</span> │ <span style=\"color: #008000; text-decoration-color: #008000\">   ▂█ </span> │  │\n",
              "│ │ <span style=\"color: #af87ff; text-decoration-color: #af87ff\">june_min_temp          </span> │ <span style=\"color: #008080; text-decoration-color: #008080\">     0</span> │ <span style=\"color: #008080; text-decoration-color: #008080\">    0</span> │ <span style=\"color: #008080; text-decoration-color: #008080\">     51</span> │ <span style=\"color: #008080; text-decoration-color: #008080\">    3.4</span> │ <span style=\"color: #008080; text-decoration-color: #008080\">   30</span> │ <span style=\"color: #008080; text-decoration-color: #008080\">    50</span> │ <span style=\"color: #008080; text-decoration-color: #008080\">     53</span> │ <span style=\"color: #008080; text-decoration-color: #008080\">     68</span> │ <span style=\"color: #008000; text-decoration-color: #008000\">  ▁█▁ </span> │  │\n",
              "│ │ <span style=\"color: #af87ff; text-decoration-color: #af87ff\">june_avg_temp          </span> │ <span style=\"color: #008080; text-decoration-color: #008080\">     0</span> │ <span style=\"color: #008080; text-decoration-color: #008080\">    0</span> │ <span style=\"color: #008080; text-decoration-color: #008080\">     71</span> │ <span style=\"color: #008080; text-decoration-color: #008080\">    2.9</span> │ <span style=\"color: #008080; text-decoration-color: #008080\">   54</span> │ <span style=\"color: #008080; text-decoration-color: #008080\">    71</span> │ <span style=\"color: #008080; text-decoration-color: #008080\">     72</span> │ <span style=\"color: #008080; text-decoration-color: #008080\">     90</span> │ <span style=\"color: #008000; text-decoration-color: #008000\">  ▁▅█ </span> │  │\n",
              "│ │ <span style=\"color: #af87ff; text-decoration-color: #af87ff\">june_max_temp          </span> │ <span style=\"color: #008080; text-decoration-color: #008080\">     0</span> │ <span style=\"color: #008080; text-decoration-color: #008080\">    0</span> │ <span style=\"color: #008080; text-decoration-color: #008080\">     91</span> │ <span style=\"color: #008080; text-decoration-color: #008080\">    3.6</span> │ <span style=\"color: #008080; text-decoration-color: #008080\">   67</span> │ <span style=\"color: #008080; text-decoration-color: #008080\">    89</span> │ <span style=\"color: #008080; text-decoration-color: #008080\">     94</span> │ <span style=\"color: #008080; text-decoration-color: #008080\">    120</span> │ <span style=\"color: #008000; text-decoration-color: #008000\">   █▃ </span> │  │\n",
              "│ │ <span style=\"color: #af87ff; text-decoration-color: #af87ff\">july_min_temp          </span> │ <span style=\"color: #008080; text-decoration-color: #008080\">     0</span> │ <span style=\"color: #008080; text-decoration-color: #008080\">    0</span> │ <span style=\"color: #008080; text-decoration-color: #008080\">     61</span> │ <span style=\"color: #008080; text-decoration-color: #008080\">    4.2</span> │ <span style=\"color: #008080; text-decoration-color: #008080\">   37</span> │ <span style=\"color: #008080; text-decoration-color: #008080\">    57</span> │ <span style=\"color: #008080; text-decoration-color: #008080\">     63</span> │ <span style=\"color: #008080; text-decoration-color: #008080\">     74</span> │ <span style=\"color: #008000; text-decoration-color: #008000\">  ▃▂█ </span> │  │\n",
              "│ │ <span style=\"color: #af87ff; text-decoration-color: #af87ff\">july_avg_temp          </span> │ <span style=\"color: #008080; text-decoration-color: #008080\">     0</span> │ <span style=\"color: #008080; text-decoration-color: #008080\">    0</span> │ <span style=\"color: #008080; text-decoration-color: #008080\">     77</span> │ <span style=\"color: #008080; text-decoration-color: #008080\">    4.1</span> │ <span style=\"color: #008080; text-decoration-color: #008080\">   55</span> │ <span style=\"color: #008080; text-decoration-color: #008080\">    76</span> │ <span style=\"color: #008080; text-decoration-color: #008080\">     79</span> │ <span style=\"color: #008080; text-decoration-color: #008080\">     94</span> │ <span style=\"color: #008000; text-decoration-color: #008000\">  ▁▁█ </span> │  │\n",
              "│ │ <span style=\"color: #af87ff; text-decoration-color: #af87ff\">july_max_temp          </span> │ <span style=\"color: #008080; text-decoration-color: #008080\">     0</span> │ <span style=\"color: #008080; text-decoration-color: #008080\">    0</span> │ <span style=\"color: #008080; text-decoration-color: #008080\">     96</span> │ <span style=\"color: #008080; text-decoration-color: #008080\">    4.2</span> │ <span style=\"color: #008080; text-decoration-color: #008080\">   65</span> │ <span style=\"color: #008080; text-decoration-color: #008080\">    95</span> │ <span style=\"color: #008080; text-decoration-color: #008080\">     98</span> │ <span style=\"color: #008080; text-decoration-color: #008080\">    120</span> │ <span style=\"color: #008000; text-decoration-color: #008000\">  ▁█▂ </span> │  │\n",
              "│ │ <span style=\"color: #af87ff; text-decoration-color: #af87ff\">august_min_temp        </span> │ <span style=\"color: #008080; text-decoration-color: #008080\">     0</span> │ <span style=\"color: #008080; text-decoration-color: #008080\">    0</span> │ <span style=\"color: #008080; text-decoration-color: #008080\">     59</span> │ <span style=\"color: #008080; text-decoration-color: #008080\">    4.4</span> │ <span style=\"color: #008080; text-decoration-color: #008080\">   31</span> │ <span style=\"color: #008080; text-decoration-color: #008080\">    57</span> │ <span style=\"color: #008080; text-decoration-color: #008080\">     61</span> │ <span style=\"color: #008080; text-decoration-color: #008080\">     77</span> │ <span style=\"color: #008000; text-decoration-color: #008000\">  ▂█▂ </span> │  │\n",
              "│ │ <span style=\"color: #af87ff; text-decoration-color: #af87ff\">august_avg_temp        </span> │ <span style=\"color: #008080; text-decoration-color: #008080\">     0</span> │ <span style=\"color: #008080; text-decoration-color: #008080\">    0</span> │ <span style=\"color: #008080; text-decoration-color: #008080\">     75</span> │ <span style=\"color: #008080; text-decoration-color: #008080\">    3.8</span> │ <span style=\"color: #008080; text-decoration-color: #008080\">   57</span> │ <span style=\"color: #008080; text-decoration-color: #008080\">    75</span> │ <span style=\"color: #008080; text-decoration-color: #008080\">     79</span> │ <span style=\"color: #008080; text-decoration-color: #008080\">     95</span> │ <span style=\"color: #008000; text-decoration-color: #008000\">  ▂▆█ </span> │  │\n",
              "│ │ <span style=\"color: #af87ff; text-decoration-color: #af87ff\">august_max_temp        </span> │ <span style=\"color: #008080; text-decoration-color: #008080\">     0</span> │ <span style=\"color: #008080; text-decoration-color: #008080\">    0</span> │ <span style=\"color: #008080; text-decoration-color: #008080\">     93</span> │ <span style=\"color: #008080; text-decoration-color: #008080\">    4.1</span> │ <span style=\"color: #008080; text-decoration-color: #008080\">   66</span> │ <span style=\"color: #008080; text-decoration-color: #008080\">    90</span> │ <span style=\"color: #008080; text-decoration-color: #008080\">     95</span> │ <span style=\"color: #008080; text-decoration-color: #008080\">    120</span> │ <span style=\"color: #008000; text-decoration-color: #008000\">  ▄█▁ </span> │  │\n",
              "│ │ <span style=\"color: #af87ff; text-decoration-color: #af87ff\">september_min_temp     </span> │ <span style=\"color: #008080; text-decoration-color: #008080\">     0</span> │ <span style=\"color: #008080; text-decoration-color: #008080\">    0</span> │ <span style=\"color: #008080; text-decoration-color: #008080\">     51</span> │ <span style=\"color: #008080; text-decoration-color: #008080\">    4.3</span> │ <span style=\"color: #008080; text-decoration-color: #008080\">   26</span> │ <span style=\"color: #008080; text-decoration-color: #008080\">    47</span> │ <span style=\"color: #008080; text-decoration-color: #008080\">     54</span> │ <span style=\"color: #008080; text-decoration-color: #008080\">     65</span> │ <span style=\"color: #008000; text-decoration-color: #008000\">  ▂▃█ </span> │  │\n",
              "│ │ <span style=\"color: #af87ff; text-decoration-color: #af87ff\">september_avg_temp     </span> │ <span style=\"color: #008080; text-decoration-color: #008080\">     0</span> │ <span style=\"color: #008080; text-decoration-color: #008080\">    0</span> │ <span style=\"color: #008080; text-decoration-color: #008080\">     70</span> │ <span style=\"color: #008080; text-decoration-color: #008080\">    3.6</span> │ <span style=\"color: #008080; text-decoration-color: #008080\">   54</span> │ <span style=\"color: #008080; text-decoration-color: #008080\">    68</span> │ <span style=\"color: #008080; text-decoration-color: #008080\">     72</span> │ <span style=\"color: #008080; text-decoration-color: #008080\">     90</span> │ <span style=\"color: #008000; text-decoration-color: #008000\">  ▁█▂ </span> │  │\n",
              "│ │ <span style=\"color: #af87ff; text-decoration-color: #af87ff\">september_max_temp     </span> │ <span style=\"color: #008080; text-decoration-color: #008080\">     0</span> │ <span style=\"color: #008080; text-decoration-color: #008080\">    0</span> │ <span style=\"color: #008080; text-decoration-color: #008080\">     92</span> │ <span style=\"color: #008080; text-decoration-color: #008080\">      5</span> │ <span style=\"color: #008080; text-decoration-color: #008080\">   64</span> │ <span style=\"color: #008080; text-decoration-color: #008080\">    91</span> │ <span style=\"color: #008080; text-decoration-color: #008080\">     96</span> │ <span style=\"color: #008080; text-decoration-color: #008080\">    110</span> │ <span style=\"color: #008000; text-decoration-color: #008000\"> ▁▁█▄ </span> │  │\n",
              "│ │ <span style=\"color: #af87ff; text-decoration-color: #af87ff\">october_min_temp       </span> │ <span style=\"color: #008080; text-decoration-color: #008080\">     0</span> │ <span style=\"color: #008080; text-decoration-color: #008080\">    0</span> │ <span style=\"color: #008080; text-decoration-color: #008080\">     38</span> │ <span style=\"color: #008080; text-decoration-color: #008080\">    5.1</span> │ <span style=\"color: #008080; text-decoration-color: #008080\">   18</span> │ <span style=\"color: #008080; text-decoration-color: #008080\">    35</span> │ <span style=\"color: #008080; text-decoration-color: #008080\">     40</span> │ <span style=\"color: #008080; text-decoration-color: #008080\">     61</span> │ <span style=\"color: #008000; text-decoration-color: #008000\">  ▁█▄ </span> │  │\n",
              "│ │ <span style=\"color: #af87ff; text-decoration-color: #af87ff\">october_avg_temp       </span> │ <span style=\"color: #008080; text-decoration-color: #008080\">     0</span> │ <span style=\"color: #008080; text-decoration-color: #008080\">    0</span> │ <span style=\"color: #008080; text-decoration-color: #008080\">     59</span> │ <span style=\"color: #008080; text-decoration-color: #008080\">    2.6</span> │ <span style=\"color: #008080; text-decoration-color: #008080\">   45</span> │ <span style=\"color: #008080; text-decoration-color: #008080\">    58</span> │ <span style=\"color: #008080; text-decoration-color: #008080\">     60</span> │ <span style=\"color: #008080; text-decoration-color: #008080\">     81</span> │ <span style=\"color: #008000; text-decoration-color: #008000\">  ▁█  </span> │  │\n",
              "│ │ <span style=\"color: #af87ff; text-decoration-color: #af87ff\">october_max_temp       </span> │ <span style=\"color: #008080; text-decoration-color: #008080\">     0</span> │ <span style=\"color: #008080; text-decoration-color: #008080\">    0</span> │ <span style=\"color: #008080; text-decoration-color: #008080\">     81</span> │ <span style=\"color: #008080; text-decoration-color: #008080\">    5.6</span> │ <span style=\"color: #008080; text-decoration-color: #008080\">   59</span> │ <span style=\"color: #008080; text-decoration-color: #008080\">    78</span> │ <span style=\"color: #008080; text-decoration-color: #008080\">     85</span> │ <span style=\"color: #008080; text-decoration-color: #008080\">    110</span> │ <span style=\"color: #008000; text-decoration-color: #008000\">  ▁█▆ </span> │  │\n",
              "│ │ <span style=\"color: #af87ff; text-decoration-color: #af87ff\">november_min_temp      </span> │ <span style=\"color: #008080; text-decoration-color: #008080\">     0</span> │ <span style=\"color: #008080; text-decoration-color: #008080\">    0</span> │ <span style=\"color: #008080; text-decoration-color: #008080\">     29</span> │ <span style=\"color: #008080; text-decoration-color: #008080\">    7.2</span> │ <span style=\"color: #008080; text-decoration-color: #008080\">    4</span> │ <span style=\"color: #008080; text-decoration-color: #008080\">    23</span> │ <span style=\"color: #008080; text-decoration-color: #008080\">     34</span> │ <span style=\"color: #008080; text-decoration-color: #008080\">     52</span> │ <span style=\"color: #008000; text-decoration-color: #008000\"> ▁▆█▁ </span> │  │\n",
              "│ │ <span style=\"color: #af87ff; text-decoration-color: #af87ff\">november_avg_temp      </span> │ <span style=\"color: #008080; text-decoration-color: #008080\">     0</span> │ <span style=\"color: #008080; text-decoration-color: #008080\">    0</span> │ <span style=\"color: #008080; text-decoration-color: #008080\">     48</span> │ <span style=\"color: #008080; text-decoration-color: #008080\">    4.1</span> │ <span style=\"color: #008080; text-decoration-color: #008080\">   31</span> │ <span style=\"color: #008080; text-decoration-color: #008080\">    45</span> │ <span style=\"color: #008080; text-decoration-color: #008080\">     51</span> │ <span style=\"color: #008080; text-decoration-color: #008080\">     67</span> │ <span style=\"color: #008000; text-decoration-color: #008000\">  █▇▁ </span> │  │\n",
              "│ │ <span style=\"color: #af87ff; text-decoration-color: #af87ff\">november_max_temp      </span> │ <span style=\"color: #008080; text-decoration-color: #008080\">     0</span> │ <span style=\"color: #008080; text-decoration-color: #008080\">    0</span> │ <span style=\"color: #008080; text-decoration-color: #008080\">     71</span> │ <span style=\"color: #008080; text-decoration-color: #008080\">    4.4</span> │ <span style=\"color: #008080; text-decoration-color: #008080\">   53</span> │ <span style=\"color: #008080; text-decoration-color: #008080\">    69</span> │ <span style=\"color: #008080; text-decoration-color: #008080\">     74</span> │ <span style=\"color: #008080; text-decoration-color: #008080\">     96</span> │ <span style=\"color: #008000; text-decoration-color: #008000\">  ▁█▂ </span> │  │\n",
              "│ │ <span style=\"color: #af87ff; text-decoration-color: #af87ff\">december_min_temp      </span> │ <span style=\"color: #008080; text-decoration-color: #008080\">     0</span> │ <span style=\"color: #008080; text-decoration-color: #008080\">    0</span> │ <span style=\"color: #008080; text-decoration-color: #008080\">     23</span> │ <span style=\"color: #008080; text-decoration-color: #008080\">      9</span> │ <span style=\"color: #008080; text-decoration-color: #008080\">  -16</span> │ <span style=\"color: #008080; text-decoration-color: #008080\">    17</span> │ <span style=\"color: #008080; text-decoration-color: #008080\">     28</span> │ <span style=\"color: #008080; text-decoration-color: #008080\">     44</span> │ <span style=\"color: #008000; text-decoration-color: #008000\">▁ ▁██▃</span> │  │\n",
              "│ │ <span style=\"color: #af87ff; text-decoration-color: #af87ff\">december_avg_temp      </span> │ <span style=\"color: #008080; text-decoration-color: #008080\">     0</span> │ <span style=\"color: #008080; text-decoration-color: #008080\">    0</span> │ <span style=\"color: #008080; text-decoration-color: #008080\">     42</span> │ <span style=\"color: #008080; text-decoration-color: #008080\">    5.9</span> │ <span style=\"color: #008080; text-decoration-color: #008080\">   24</span> │ <span style=\"color: #008080; text-decoration-color: #008080\">    39</span> │ <span style=\"color: #008080; text-decoration-color: #008080\">     43</span> │ <span style=\"color: #008080; text-decoration-color: #008080\">     62</span> │ <span style=\"color: #008000; text-decoration-color: #008000\">  █▂▂ </span> │  │\n",
              "│ │ <span style=\"color: #af87ff; text-decoration-color: #af87ff\">december_max_temp      </span> │ <span style=\"color: #008080; text-decoration-color: #008080\">     0</span> │ <span style=\"color: #008080; text-decoration-color: #008080\">    0</span> │ <span style=\"color: #008080; text-decoration-color: #008080\">     64</span> │ <span style=\"color: #008080; text-decoration-color: #008080\">    6.1</span> │ <span style=\"color: #008080; text-decoration-color: #008080\">   42</span> │ <span style=\"color: #008080; text-decoration-color: #008080\">    60</span> │ <span style=\"color: #008080; text-decoration-color: #008080\">     71</span> │ <span style=\"color: #008080; text-decoration-color: #008080\">     86</span> │ <span style=\"color: #008000; text-decoration-color: #008000\"> ▂█▇▄ </span> │  │\n",
              "│ │ <span style=\"color: #af87ff; text-decoration-color: #af87ff\">cooling_degree_days    </span> │ <span style=\"color: #008080; text-decoration-color: #008080\">     0</span> │ <span style=\"color: #008080; text-decoration-color: #008080\">    0</span> │ <span style=\"color: #008080; text-decoration-color: #008080\">   1200</span> │ <span style=\"color: #008080; text-decoration-color: #008080\">    390</span> │ <span style=\"color: #008080; text-decoration-color: #008080\">    0</span> │ <span style=\"color: #008080; text-decoration-color: #008080\">  1100</span> │ <span style=\"color: #008080; text-decoration-color: #008080\">   1500</span> │ <span style=\"color: #008080; text-decoration-color: #008080\">   4900</span> │ <span style=\"color: #008000; text-decoration-color: #008000\">  ▂█  </span> │  │\n",
              "│ │ <span style=\"color: #af87ff; text-decoration-color: #af87ff\">heating_degree_days    </span> │ <span style=\"color: #008080; text-decoration-color: #008080\">     0</span> │ <span style=\"color: #008080; text-decoration-color: #008080\">    0</span> │ <span style=\"color: #008080; text-decoration-color: #008080\">   4300</span> │ <span style=\"color: #008080; text-decoration-color: #008080\">    820</span> │ <span style=\"color: #008080; text-decoration-color: #008080\">  400</span> │ <span style=\"color: #008080; text-decoration-color: #008080\">  4000</span> │ <span style=\"color: #008080; text-decoration-color: #008080\">   4700</span> │ <span style=\"color: #008080; text-decoration-color: #008080\">   7900</span> │ <span style=\"color: #008000; text-decoration-color: #008000\"> ▁▃█▁ </span> │  │\n",
              "│ │ <span style=\"color: #af87ff; text-decoration-color: #af87ff\">precipitation_inches   </span> │ <span style=\"color: #008080; text-decoration-color: #008080\">     0</span> │ <span style=\"color: #008080; text-decoration-color: #008080\">    0</span> │ <span style=\"color: #008080; text-decoration-color: #008080\">     42</span> │ <span style=\"color: #008080; text-decoration-color: #008080\">     11</span> │ <span style=\"color: #008080; text-decoration-color: #008080\">    0</span> │ <span style=\"color: #008080; text-decoration-color: #008080\">    39</span> │ <span style=\"color: #008080; text-decoration-color: #008080\">     46</span> │ <span style=\"color: #008080; text-decoration-color: #008080\">    110</span> │ <span style=\"color: #008000; text-decoration-color: #008000\">   █  </span> │  │\n",
              "│ │ <span style=\"color: #af87ff; text-decoration-color: #af87ff\">snowfall_inches        </span> │ <span style=\"color: #008080; text-decoration-color: #008080\">     0</span> │ <span style=\"color: #008080; text-decoration-color: #008080\">    0</span> │ <span style=\"color: #008080; text-decoration-color: #008080\">     29</span> │ <span style=\"color: #008080; text-decoration-color: #008080\">     18</span> │ <span style=\"color: #008080; text-decoration-color: #008080\">    0</span> │ <span style=\"color: #008080; text-decoration-color: #008080\">   9.6</span> │ <span style=\"color: #008080; text-decoration-color: #008080\">     49</span> │ <span style=\"color: #008080; text-decoration-color: #008080\">    130</span> │ <span style=\"color: #008000; text-decoration-color: #008000\"> ▇█▆  </span> │  │\n",
              "│ │ <span style=\"color: #af87ff; text-decoration-color: #af87ff\">snowdepth_inches       </span> │ <span style=\"color: #008080; text-decoration-color: #008080\">     0</span> │ <span style=\"color: #008080; text-decoration-color: #008080\">    0</span> │ <span style=\"color: #008080; text-decoration-color: #008080\">    160</span> │ <span style=\"color: #008080; text-decoration-color: #008080\">    180</span> │ <span style=\"color: #008080; text-decoration-color: #008080\">    0</span> │ <span style=\"color: #008080; text-decoration-color: #008080\">    10</span> │ <span style=\"color: #008080; text-decoration-color: #008080\">    380</span> │ <span style=\"color: #008080; text-decoration-color: #008080\">   1300</span> │ <span style=\"color: #008000; text-decoration-color: #008000\"> █▂▂  </span> │  │\n",
              "│ │ <span style=\"color: #af87ff; text-decoration-color: #af87ff\">avg_temp               </span> │ <span style=\"color: #008080; text-decoration-color: #008080\">     0</span> │ <span style=\"color: #008080; text-decoration-color: #008080\">    0</span> │ <span style=\"color: #008080; text-decoration-color: #008080\">     56</span> │ <span style=\"color: #008080; text-decoration-color: #008080\">    2.2</span> │ <span style=\"color: #008080; text-decoration-color: #008080\">   45</span> │ <span style=\"color: #008080; text-decoration-color: #008080\">    55</span> │ <span style=\"color: #008080; text-decoration-color: #008080\">     57</span> │ <span style=\"color: #008080; text-decoration-color: #008080\">     77</span> │ <span style=\"color: #008000; text-decoration-color: #008000\">  ▃█  </span> │  │\n",
              "│ │ <span style=\"color: #af87ff; text-decoration-color: #af87ff\">days_below_30F         </span> │ <span style=\"color: #008080; text-decoration-color: #008080\">     0</span> │ <span style=\"color: #008080; text-decoration-color: #008080\">    0</span> │ <span style=\"color: #008080; text-decoration-color: #008080\">     49</span> │ <span style=\"color: #008080; text-decoration-color: #008080\">     28</span> │ <span style=\"color: #008080; text-decoration-color: #008080\">    0</span> │ <span style=\"color: #008080; text-decoration-color: #008080\">    22</span> │ <span style=\"color: #008080; text-decoration-color: #008080\">     66</span> │ <span style=\"color: #008080; text-decoration-color: #008080\">    170</span> │ <span style=\"color: #008000; text-decoration-color: #008000\"> ▇██▂ </span> │  │\n",
              "│ │ <span style=\"color: #af87ff; text-decoration-color: #af87ff\">days_below_20F         </span> │ <span style=\"color: #008080; text-decoration-color: #008080\">     0</span> │ <span style=\"color: #008080; text-decoration-color: #008080\">    0</span> │ <span style=\"color: #008080; text-decoration-color: #008080\">     17</span> │ <span style=\"color: #008080; text-decoration-color: #008080\">     14</span> │ <span style=\"color: #008080; text-decoration-color: #008080\">    0</span> │ <span style=\"color: #008080; text-decoration-color: #008080\">     5</span> │ <span style=\"color: #008080; text-decoration-color: #008080\">     26</span> │ <span style=\"color: #008080; text-decoration-color: #008080\">     93</span> │ <span style=\"color: #008000; text-decoration-color: #008000\"> █▃▂  </span> │  │\n",
              "│ │ <span style=\"color: #af87ff; text-decoration-color: #af87ff\">days_below_10F         </span> │ <span style=\"color: #008080; text-decoration-color: #008080\">     0</span> │ <span style=\"color: #008080; text-decoration-color: #008080\">    0</span> │ <span style=\"color: #008080; text-decoration-color: #008080\">    4.9</span> │ <span style=\"color: #008080; text-decoration-color: #008080\">    7.1</span> │ <span style=\"color: #008080; text-decoration-color: #008080\">    0</span> │ <span style=\"color: #008080; text-decoration-color: #008080\">     0</span> │ <span style=\"color: #008080; text-decoration-color: #008080\">      7</span> │ <span style=\"color: #008080; text-decoration-color: #008080\">     59</span> │ <span style=\"color: #008000; text-decoration-color: #008000\">  █▁  </span> │  │\n",
              "│ │ <span style=\"color: #af87ff; text-decoration-color: #af87ff\">days_below_0F          </span> │ <span style=\"color: #008080; text-decoration-color: #008080\">     0</span> │ <span style=\"color: #008080; text-decoration-color: #008080\">    0</span> │ <span style=\"color: #008080; text-decoration-color: #008080\">   0.88</span> │ <span style=\"color: #008080; text-decoration-color: #008080\">    2.9</span> │ <span style=\"color: #008080; text-decoration-color: #008080\">    0</span> │ <span style=\"color: #008080; text-decoration-color: #008080\">     0</span> │ <span style=\"color: #008080; text-decoration-color: #008080\">      0</span> │ <span style=\"color: #008080; text-decoration-color: #008080\">     31</span> │ <span style=\"color: #008000; text-decoration-color: #008000\">  █   </span> │  │\n",
              "│ │ <span style=\"color: #af87ff; text-decoration-color: #af87ff\">days_above_80F         </span> │ <span style=\"color: #008080; text-decoration-color: #008080\">     0</span> │ <span style=\"color: #008080; text-decoration-color: #008080\">    0</span> │ <span style=\"color: #008080; text-decoration-color: #008080\">     83</span> │ <span style=\"color: #008080; text-decoration-color: #008080\">     25</span> │ <span style=\"color: #008080; text-decoration-color: #008080\">    0</span> │ <span style=\"color: #008080; text-decoration-color: #008080\">    72</span> │ <span style=\"color: #008080; text-decoration-color: #008080\">     97</span> │ <span style=\"color: #008080; text-decoration-color: #008080\">    260</span> │ <span style=\"color: #008000; text-decoration-color: #008000\"> ▂▇█  </span> │  │\n",
              "│ │ <span style=\"color: #af87ff; text-decoration-color: #af87ff\">days_above_90F         </span> │ <span style=\"color: #008080; text-decoration-color: #008080\">     0</span> │ <span style=\"color: #008080; text-decoration-color: #008080\">    0</span> │ <span style=\"color: #008080; text-decoration-color: #008080\">     14</span> │ <span style=\"color: #008080; text-decoration-color: #008080\">     11</span> │ <span style=\"color: #008080; text-decoration-color: #008080\">    0</span> │ <span style=\"color: #008080; text-decoration-color: #008080\">     6</span> │ <span style=\"color: #008080; text-decoration-color: #008080\">     17</span> │ <span style=\"color: #008080; text-decoration-color: #008080\">    180</span> │ <span style=\"color: #008000; text-decoration-color: #008000\">  █▁  </span> │  │\n",
              "│ │ <span style=\"color: #af87ff; text-decoration-color: #af87ff\">days_above_100F        </span> │ <span style=\"color: #008080; text-decoration-color: #008080\">     0</span> │ <span style=\"color: #008080; text-decoration-color: #008080\">    0</span> │ <span style=\"color: #008080; text-decoration-color: #008080\">   0.28</span> │ <span style=\"color: #008080; text-decoration-color: #008080\">    2.3</span> │ <span style=\"color: #008080; text-decoration-color: #008080\">    0</span> │ <span style=\"color: #008080; text-decoration-color: #008080\">     0</span> │ <span style=\"color: #008080; text-decoration-color: #008080\">      0</span> │ <span style=\"color: #008080; text-decoration-color: #008080\">    120</span> │ <span style=\"color: #008000; text-decoration-color: #008000\">  █   </span> │  │\n",
              "│ │ <span style=\"color: #af87ff; text-decoration-color: #af87ff\">days_above_110F        </span> │ <span style=\"color: #008080; text-decoration-color: #008080\">     0</span> │ <span style=\"color: #008080; text-decoration-color: #008080\">    0</span> │ <span style=\"color: #008080; text-decoration-color: #008080\"> 0.0024</span> │ <span style=\"color: #008080; text-decoration-color: #008080\">   0.14</span> │ <span style=\"color: #008080; text-decoration-color: #008080\">    0</span> │ <span style=\"color: #008080; text-decoration-color: #008080\">     0</span> │ <span style=\"color: #008080; text-decoration-color: #008080\">      0</span> │ <span style=\"color: #008080; text-decoration-color: #008080\">     16</span> │ <span style=\"color: #008000; text-decoration-color: #008000\">  █   </span> │  │\n",
              "│ │ <span style=\"color: #af87ff; text-decoration-color: #af87ff\">direction_max_wind_s   </span> │ <span style=\"color: #008080; text-decoration-color: #008080\"> 41000</span> │ <span style=\"color: #008080; text-decoration-color: #008080\">   54</span> │ <span style=\"color: #008080; text-decoration-color: #008080\">     67</span> │ <span style=\"color: #008080; text-decoration-color: #008080\">    130</span> │ <span style=\"color: #008080; text-decoration-color: #008080\">    1</span> │ <span style=\"color: #008080; text-decoration-color: #008080\">     1</span> │ <span style=\"color: #008080; text-decoration-color: #008080\">      1</span> │ <span style=\"color: #008080; text-decoration-color: #008080\">    360</span> │ <span style=\"color: #008000; text-decoration-color: #008000\">█    ▂</span> │  │\n",
              "│ │ <span style=\"color: #af87ff; text-decoration-color: #af87ff\">direction_peak_wind_   </span> │ <span style=\"color: #008080; text-decoration-color: #008080\"> 42000</span> │ <span style=\"color: #008080; text-decoration-color: #008080\">   55</span> │ <span style=\"color: #008080; text-decoration-color: #008080\">     63</span> │ <span style=\"color: #008080; text-decoration-color: #008080\">    130</span> │ <span style=\"color: #008080; text-decoration-color: #008080\">    1</span> │ <span style=\"color: #008080; text-decoration-color: #008080\">     1</span> │ <span style=\"color: #008080; text-decoration-color: #008080\">      1</span> │ <span style=\"color: #008080; text-decoration-color: #008080\">    360</span> │ <span style=\"color: #008000; text-decoration-color: #008000\">█    ▂</span> │  │\n",
              "│ │ <span style=\"color: #af87ff; text-decoration-color: #af87ff\">max_wind_speed         </span> │ <span style=\"color: #008080; text-decoration-color: #008080\"> 41000</span> │ <span style=\"color: #008080; text-decoration-color: #008080\">   54</span> │ <span style=\"color: #008080; text-decoration-color: #008080\">    4.2</span> │ <span style=\"color: #008080; text-decoration-color: #008080\">    6.5</span> │ <span style=\"color: #008080; text-decoration-color: #008080\">    1</span> │ <span style=\"color: #008080; text-decoration-color: #008080\">     1</span> │ <span style=\"color: #008080; text-decoration-color: #008080\">      1</span> │ <span style=\"color: #008080; text-decoration-color: #008080\">     23</span> │ <span style=\"color: #008000; text-decoration-color: #008000\">█  ▁▁ </span> │  │\n",
              "│ │ <span style=\"color: #af87ff; text-decoration-color: #af87ff\">days_with_fog          </span> │ <span style=\"color: #008080; text-decoration-color: #008080\"> 46000</span> │ <span style=\"color: #008080; text-decoration-color: #008080\">   60</span> │ <span style=\"color: #008080; text-decoration-color: #008080\">    110</span> │ <span style=\"color: #008080; text-decoration-color: #008080\">     51</span> │ <span style=\"color: #008080; text-decoration-color: #008080\">   12</span> │ <span style=\"color: #008080; text-decoration-color: #008080\">    88</span> │ <span style=\"color: #008080; text-decoration-color: #008080\">    130</span> │ <span style=\"color: #008080; text-decoration-color: #008080\">    310</span> │ <span style=\"color: #008000; text-decoration-color: #008000\"> ▂█▅  </span> │  │\n",
              "│ │ <span style=\"color: #af87ff; text-decoration-color: #af87ff\">site_eui               </span> │ <span style=\"color: #008080; text-decoration-color: #008080\">     0</span> │ <span style=\"color: #008080; text-decoration-color: #008080\">    0</span> │ <span style=\"color: #008080; text-decoration-color: #008080\">     83</span> │ <span style=\"color: #008080; text-decoration-color: #008080\">     58</span> │ <span style=\"color: #008080; text-decoration-color: #008080\">    1</span> │ <span style=\"color: #008080; text-decoration-color: #008080\">    55</span> │ <span style=\"color: #008080; text-decoration-color: #008080\">     97</span> │ <span style=\"color: #008080; text-decoration-color: #008080\">   1000</span> │ <span style=\"color: #008000; text-decoration-color: #008000\">  █   </span> │  │\n",
              "│ │ <span style=\"color: #af87ff; text-decoration-color: #af87ff\">id                     </span> │ <span style=\"color: #008080; text-decoration-color: #008080\">     0</span> │ <span style=\"color: #008080; text-decoration-color: #008080\">    0</span> │ <span style=\"color: #008080; text-decoration-color: #008080\">  38000</span> │ <span style=\"color: #008080; text-decoration-color: #008080\">  22000</span> │ <span style=\"color: #008080; text-decoration-color: #008080\">    0</span> │ <span style=\"color: #008080; text-decoration-color: #008080\"> 19000</span> │ <span style=\"color: #008080; text-decoration-color: #008080\">  57000</span> │ <span style=\"color: #008080; text-decoration-color: #008080\">  76000</span> │ <span style=\"color: #008000; text-decoration-color: #008000\">██████</span> │  │\n",
              "│ └─────────────────────────┴────────┴───────┴─────────┴─────────┴───────┴────────┴─────────┴─────────┴────────┘  │\n",
              "│ <span style=\"font-style: italic\">                                                    string                                                    </span>  │\n",
              "│ ┏━━━━━━━━━━━━━━━━━━━━━━━━━━━━━━━┳━━━━━━━━┳━━━━━━━━━━━━┳━━━━━━━━━━━━━━━━━━━━━━━━━━━━━┳━━━━━━━━━━━━━━━━━━━━━━━━┓  │\n",
              "│ ┃<span style=\"font-weight: bold\"> column_name                   </span>┃<span style=\"font-weight: bold\"> NA     </span>┃<span style=\"font-weight: bold\"> NA %       </span>┃<span style=\"font-weight: bold\"> words per row               </span>┃<span style=\"font-weight: bold\"> total words            </span>┃  │\n",
              "│ ┡━━━━━━━━━━━━━━━━━━━━━━━━━━━━━━━╇━━━━━━━━╇━━━━━━━━━━━━╇━━━━━━━━━━━━━━━━━━━━━━━━━━━━━╇━━━━━━━━━━━━━━━━━━━━━━━━┩  │\n",
              "│ │ <span style=\"color: #af87ff; text-decoration-color: #af87ff\">State_Factor                 </span> │ <span style=\"color: #008080; text-decoration-color: #008080\">     0</span> │ <span style=\"color: #008080; text-decoration-color: #008080\">         0</span> │ <span style=\"color: #008080; text-decoration-color: #008080\">                          1</span> │ <span style=\"color: #008080; text-decoration-color: #008080\">                 76000</span> │  │\n",
              "│ │ <span style=\"color: #af87ff; text-decoration-color: #af87ff\">building_class               </span> │ <span style=\"color: #008080; text-decoration-color: #008080\">     0</span> │ <span style=\"color: #008080; text-decoration-color: #008080\">         0</span> │ <span style=\"color: #008080; text-decoration-color: #008080\">                          1</span> │ <span style=\"color: #008080; text-decoration-color: #008080\">                 76000</span> │  │\n",
              "│ │ <span style=\"color: #af87ff; text-decoration-color: #af87ff\">facility_type                </span> │ <span style=\"color: #008080; text-decoration-color: #008080\">     0</span> │ <span style=\"color: #008080; text-decoration-color: #008080\">         0</span> │ <span style=\"color: #008080; text-decoration-color: #008080\">                          1</span> │ <span style=\"color: #008080; text-decoration-color: #008080\">                 76000</span> │  │\n",
              "│ └───────────────────────────────┴────────┴────────────┴─────────────────────────────┴────────────────────────┘  │\n",
              "╰────────────────────────────────────────────────────── End ──────────────────────────────────────────────────────╯\n",
              "</pre>\n"
            ]
          },
          "metadata": {}
        }
      ]
    },
    {
      "cell_type": "code",
      "source": [
        "create_report(train)"
      ],
      "metadata": {
        "id": "PymgMLvF4UZK"
      },
      "execution_count": null,
      "outputs": []
    },
    {
      "cell_type": "code",
      "source": [],
      "metadata": {
        "id": "kDNfDcx8h5yG"
      },
      "execution_count": null,
      "outputs": []
    },
    {
      "cell_type": "markdown",
      "source": [
        "#### ++ Variables con errores\n",
        "\n",
        "Del eda univariado en lote, ¿existe alguna variable a la que le vean algo raro? Corregirlo (ojo, no digo que exista, deben analizar las tablas y gráficos a detalle)"
      ],
      "metadata": {
        "id": "8tOPUCLQ0Apt"
      }
    },
    {
      "cell_type": "code",
      "source": [],
      "metadata": {
        "id": "Kih2yFdu0A8k"
      },
      "execution_count": null,
      "outputs": []
    },
    {
      "cell_type": "code",
      "source": [],
      "metadata": {
        "id": "__xSRKEf0BB8"
      },
      "execution_count": null,
      "outputs": []
    },
    {
      "cell_type": "markdown",
      "source": [
        "#### ++ Variables con demasiados NA"
      ],
      "metadata": {
        "id": "1-kZJsxphO1w"
      }
    },
    {
      "cell_type": "code",
      "source": [
        "porc_nas= train.isnull().mean()\n",
        "porc_nas"
      ],
      "metadata": {
        "id": "4YmyiAPYhOJN",
        "colab": {
          "base_uri": "https://localhost:8080/"
        },
        "outputId": "92b3d6fa-5d1f-4bf0-dae7-23f6e251572e"
      },
      "execution_count": null,
      "outputs": [
        {
          "output_type": "execute_result",
          "data": {
            "text/plain": [
              "Year_Factor                  0.000000\n",
              "State_Factor                 0.000000\n",
              "building_class               0.000000\n",
              "facility_type                0.000000\n",
              "floor_area                   0.000000\n",
              "                               ...   \n",
              "direction_peak_wind_speed    0.551909\n",
              "max_wind_speed               0.542287\n",
              "days_with_fog                0.604512\n",
              "site_eui                     0.000000\n",
              "id                           0.000000\n",
              "Length: 64, dtype: float64"
            ]
          },
          "metadata": {},
          "execution_count": 12
        }
      ]
    },
    {
      "cell_type": "code",
      "source": [
        "## Seleccionar y mostrar columnas con muchos NAs\n",
        "print( wrapper.fill( str( \n",
        "    list( train.columns[ porc_nas > 0.30 ] )\n",
        "      ) ) )"
      ],
      "metadata": {
        "colab": {
          "base_uri": "https://localhost:8080/"
        },
        "id": "WmEIQISVhxSw",
        "outputId": "2fa12c59-be1d-4ed0-adb8-64df785d7876"
      },
      "execution_count": null,
      "outputs": [
        {
          "output_type": "stream",
          "name": "stdout",
          "text": [
            "['energy_star_rating', 'direction_max_wind_speed', 'direction_peak_wind_speed', 'max_wind_speed',\n",
            "'days_with_fog']\n"
          ]
        }
      ]
    },
    {
      "cell_type": "markdown",
      "source": [
        "**Debate**  \n",
        "¿Cuál de estas variables debería eliminarse? Todas? O quizá exista alguna variable donde Y tenga un comportamiento diferente cuando esta llena vs cuando está con NA?? Existen variables cuyos NA son excluyentes (es decir, cuando la una tiene NA la otra tiene valor y viceversa)?"
      ],
      "metadata": {
        "id": "x82xYZC4OvKh"
      }
    },
    {
      "cell_type": "code",
      "source": [],
      "metadata": {
        "id": "_9y7CSH7PCRQ"
      },
      "execution_count": null,
      "outputs": []
    },
    {
      "cell_type": "code",
      "source": [],
      "metadata": {
        "id": "L-eEtHlVhy7n"
      },
      "execution_count": null,
      "outputs": []
    },
    {
      "cell_type": "markdown",
      "source": [
        "#### ++ Variables con varianza cercana a cero"
      ],
      "metadata": {
        "id": "3i5TumqThaWP"
      }
    },
    {
      "cell_type": "markdown",
      "source": [
        "Aqui deben encontrar las columnas numericas con desviacion cercana a cero, pero antes de ser normalizadas."
      ],
      "metadata": {
        "id": "J8mRKDmrAtw-"
      }
    },
    {
      "cell_type": "code",
      "source": [
        "dscr_train= train.select_dtypes( include= 'floating').describe()"
      ],
      "metadata": {
        "id": "sUjVBNFw_gtk"
      },
      "execution_count": null,
      "outputs": []
    },
    {
      "cell_type": "code",
      "source": [
        "# Coeficiente de variacion\n",
        "dscr_train.loc['CV', :]= dscr_train.apply( lambda x: x.loc['std']/x.loc['mean'] , axis=0)"
      ],
      "metadata": {
        "id": "lrsIgb-Xh4Qe"
      },
      "execution_count": null,
      "outputs": []
    },
    {
      "cell_type": "code",
      "source": [
        "# Porcentaje NA\n",
        "dscr_train.loc['Porc_NA', :]=train.select_dtypes( include= 'floating').isnull().mean()"
      ],
      "metadata": {
        "id": "dN0M5COkkIvS"
      },
      "execution_count": null,
      "outputs": []
    },
    {
      "cell_type": "code",
      "source": [
        "dscr_train"
      ],
      "metadata": {
        "colab": {
          "base_uri": "https://localhost:8080/",
          "height": 456
        },
        "id": "6iHqRHjqh78X",
        "outputId": "092c962c-de13-4a6d-f821-c4774b64981c"
      },
      "execution_count": null,
      "outputs": [
        {
          "output_type": "execute_result",
          "data": {
            "text/plain": [
              "           floor_area    year_built  energy_star_rating     ELEVATION  \\\n",
              "count    7.575700e+04  73920.000000        49048.000000  75757.000000   \n",
              "mean     1.659839e+05   1952.306764           61.048605     39.506323   \n",
              "std      2.468758e+05     37.053619           28.663683     60.656596   \n",
              "min      9.430000e+02      0.000000            0.000000     -6.400000   \n",
              "25%      6.237900e+04   1927.000000           40.000000     11.900000   \n",
              "50%      9.136700e+04   1951.000000           67.000000     25.000000   \n",
              "75%      1.660000e+05   1977.000000           85.000000     42.700000   \n",
              "max      6.385382e+06   2015.000000          100.000000   1924.500000   \n",
              "CV       1.487348e+00      0.018979            0.469522      1.535364   \n",
              "Porc_NA  0.000000e+00      0.024249            0.352561      0.000000   \n",
              "\n",
              "         january_avg_temp  february_avg_temp  march_avg_temp  april_avg_temp  \\\n",
              "count        75757.000000       75757.000000    75757.000000    75757.000000   \n",
              "mean            34.310468          35.526837       44.469292       53.784863   \n",
              "std              6.996108           8.866697        6.657142        2.500473   \n",
              "min             10.806452          13.250000       25.854839       40.280000   \n",
              "25%             29.827586          31.625000       38.096774       52.333333   \n",
              "50%             34.451613          34.107143       44.516129       53.333333   \n",
              "75%             37.322581          40.879310       49.354839       54.766667   \n",
              "max             64.758065          65.107143       69.758065       74.500000   \n",
              "CV               0.203906           0.249577        0.149702        0.046490   \n",
              "Porc_NA          0.000000           0.000000        0.000000        0.000000   \n",
              "\n",
              "         may_avg_temp  june_avg_temp  ...  november_avg_temp  \\\n",
              "count    75757.000000   75757.000000  ...       75757.000000   \n",
              "mean        63.742547      71.066384  ...          48.123133   \n",
              "std          2.792919       2.861681  ...           4.094207   \n",
              "min         46.950000      54.100000  ...          30.766667   \n",
              "25%         62.790323      70.983333  ...          45.250000   \n",
              "50%         62.887097      72.250000  ...          47.116667   \n",
              "75%         65.096774      72.450000  ...          51.339286   \n",
              "max         82.112903      89.550000  ...          67.416667   \n",
              "CV           0.043816       0.040268  ...           0.085078   \n",
              "Porc_NA      0.000000       0.000000  ...           0.000000   \n",
              "\n",
              "         december_avg_temp  precipitation_inches  snowfall_inches  \\\n",
              "count         75757.000000          75757.000000     75757.000000   \n",
              "mean             41.625569             42.430651        29.136379   \n",
              "std               5.869386             10.592205        17.810894   \n",
              "min              23.790323              0.000000         0.000000   \n",
              "25%              38.532258             39.350000         9.600000   \n",
              "50%              40.516129             42.170000        31.600000   \n",
              "75%              43.435484             46.320000        49.100000   \n",
              "max              61.790323            107.690000       127.300000   \n",
              "CV                0.141004              0.249636         0.611294   \n",
              "Porc_NA           0.000000              0.000000         0.000000   \n",
              "\n",
              "             avg_temp  direction_max_wind_speed  direction_peak_wind_speed  \\\n",
              "count    75757.000000              34675.000000               33946.000000   \n",
              "mean        56.176705                 66.552675                  62.779974   \n",
              "std          2.241940                131.147834                 130.308106   \n",
              "min         44.512329                  1.000000                   1.000000   \n",
              "25%         55.147541                  1.000000                   1.000000   \n",
              "50%         56.835616                  1.000000                   1.000000   \n",
              "75%         57.215847                  1.000000                   1.000000   \n",
              "max         77.245205                360.000000                 360.000000   \n",
              "CV           0.039909                  1.970587                   2.075632   \n",
              "Porc_NA      0.000000                  0.542287                   0.551909   \n",
              "\n",
              "         max_wind_speed  days_with_fog      site_eui  \n",
              "count      34675.000000   29961.000000  75757.000000  \n",
              "mean           4.190601     109.142051     82.584693  \n",
              "std            6.458789      50.699751     58.255403  \n",
              "min            1.000000      12.000000      1.001169  \n",
              "25%            1.000000      88.000000     54.528601  \n",
              "50%            1.000000     104.000000     75.293716  \n",
              "75%            1.000000     131.000000     97.277534  \n",
              "max           23.300000     311.000000    997.866120  \n",
              "CV             1.541256       0.464530      0.705402  \n",
              "Porc_NA        0.542287       0.604512      0.000000  \n",
              "\n",
              "[10 rows x 24 columns]"
            ],
            "text/html": [
              "\n",
              "  <div id=\"df-9a3f8b98-1474-4c3f-8274-2e2c17a983a4\">\n",
              "    <div class=\"colab-df-container\">\n",
              "      <div>\n",
              "<style scoped>\n",
              "    .dataframe tbody tr th:only-of-type {\n",
              "        vertical-align: middle;\n",
              "    }\n",
              "\n",
              "    .dataframe tbody tr th {\n",
              "        vertical-align: top;\n",
              "    }\n",
              "\n",
              "    .dataframe thead th {\n",
              "        text-align: right;\n",
              "    }\n",
              "</style>\n",
              "<table border=\"1\" class=\"dataframe\">\n",
              "  <thead>\n",
              "    <tr style=\"text-align: right;\">\n",
              "      <th></th>\n",
              "      <th>floor_area</th>\n",
              "      <th>year_built</th>\n",
              "      <th>energy_star_rating</th>\n",
              "      <th>ELEVATION</th>\n",
              "      <th>january_avg_temp</th>\n",
              "      <th>february_avg_temp</th>\n",
              "      <th>march_avg_temp</th>\n",
              "      <th>april_avg_temp</th>\n",
              "      <th>may_avg_temp</th>\n",
              "      <th>june_avg_temp</th>\n",
              "      <th>...</th>\n",
              "      <th>november_avg_temp</th>\n",
              "      <th>december_avg_temp</th>\n",
              "      <th>precipitation_inches</th>\n",
              "      <th>snowfall_inches</th>\n",
              "      <th>avg_temp</th>\n",
              "      <th>direction_max_wind_speed</th>\n",
              "      <th>direction_peak_wind_speed</th>\n",
              "      <th>max_wind_speed</th>\n",
              "      <th>days_with_fog</th>\n",
              "      <th>site_eui</th>\n",
              "    </tr>\n",
              "  </thead>\n",
              "  <tbody>\n",
              "    <tr>\n",
              "      <th>count</th>\n",
              "      <td>7.575700e+04</td>\n",
              "      <td>73920.000000</td>\n",
              "      <td>49048.000000</td>\n",
              "      <td>75757.000000</td>\n",
              "      <td>75757.000000</td>\n",
              "      <td>75757.000000</td>\n",
              "      <td>75757.000000</td>\n",
              "      <td>75757.000000</td>\n",
              "      <td>75757.000000</td>\n",
              "      <td>75757.000000</td>\n",
              "      <td>...</td>\n",
              "      <td>75757.000000</td>\n",
              "      <td>75757.000000</td>\n",
              "      <td>75757.000000</td>\n",
              "      <td>75757.000000</td>\n",
              "      <td>75757.000000</td>\n",
              "      <td>34675.000000</td>\n",
              "      <td>33946.000000</td>\n",
              "      <td>34675.000000</td>\n",
              "      <td>29961.000000</td>\n",
              "      <td>75757.000000</td>\n",
              "    </tr>\n",
              "    <tr>\n",
              "      <th>mean</th>\n",
              "      <td>1.659839e+05</td>\n",
              "      <td>1952.306764</td>\n",
              "      <td>61.048605</td>\n",
              "      <td>39.506323</td>\n",
              "      <td>34.310468</td>\n",
              "      <td>35.526837</td>\n",
              "      <td>44.469292</td>\n",
              "      <td>53.784863</td>\n",
              "      <td>63.742547</td>\n",
              "      <td>71.066384</td>\n",
              "      <td>...</td>\n",
              "      <td>48.123133</td>\n",
              "      <td>41.625569</td>\n",
              "      <td>42.430651</td>\n",
              "      <td>29.136379</td>\n",
              "      <td>56.176705</td>\n",
              "      <td>66.552675</td>\n",
              "      <td>62.779974</td>\n",
              "      <td>4.190601</td>\n",
              "      <td>109.142051</td>\n",
              "      <td>82.584693</td>\n",
              "    </tr>\n",
              "    <tr>\n",
              "      <th>std</th>\n",
              "      <td>2.468758e+05</td>\n",
              "      <td>37.053619</td>\n",
              "      <td>28.663683</td>\n",
              "      <td>60.656596</td>\n",
              "      <td>6.996108</td>\n",
              "      <td>8.866697</td>\n",
              "      <td>6.657142</td>\n",
              "      <td>2.500473</td>\n",
              "      <td>2.792919</td>\n",
              "      <td>2.861681</td>\n",
              "      <td>...</td>\n",
              "      <td>4.094207</td>\n",
              "      <td>5.869386</td>\n",
              "      <td>10.592205</td>\n",
              "      <td>17.810894</td>\n",
              "      <td>2.241940</td>\n",
              "      <td>131.147834</td>\n",
              "      <td>130.308106</td>\n",
              "      <td>6.458789</td>\n",
              "      <td>50.699751</td>\n",
              "      <td>58.255403</td>\n",
              "    </tr>\n",
              "    <tr>\n",
              "      <th>min</th>\n",
              "      <td>9.430000e+02</td>\n",
              "      <td>0.000000</td>\n",
              "      <td>0.000000</td>\n",
              "      <td>-6.400000</td>\n",
              "      <td>10.806452</td>\n",
              "      <td>13.250000</td>\n",
              "      <td>25.854839</td>\n",
              "      <td>40.280000</td>\n",
              "      <td>46.950000</td>\n",
              "      <td>54.100000</td>\n",
              "      <td>...</td>\n",
              "      <td>30.766667</td>\n",
              "      <td>23.790323</td>\n",
              "      <td>0.000000</td>\n",
              "      <td>0.000000</td>\n",
              "      <td>44.512329</td>\n",
              "      <td>1.000000</td>\n",
              "      <td>1.000000</td>\n",
              "      <td>1.000000</td>\n",
              "      <td>12.000000</td>\n",
              "      <td>1.001169</td>\n",
              "    </tr>\n",
              "    <tr>\n",
              "      <th>25%</th>\n",
              "      <td>6.237900e+04</td>\n",
              "      <td>1927.000000</td>\n",
              "      <td>40.000000</td>\n",
              "      <td>11.900000</td>\n",
              "      <td>29.827586</td>\n",
              "      <td>31.625000</td>\n",
              "      <td>38.096774</td>\n",
              "      <td>52.333333</td>\n",
              "      <td>62.790323</td>\n",
              "      <td>70.983333</td>\n",
              "      <td>...</td>\n",
              "      <td>45.250000</td>\n",
              "      <td>38.532258</td>\n",
              "      <td>39.350000</td>\n",
              "      <td>9.600000</td>\n",
              "      <td>55.147541</td>\n",
              "      <td>1.000000</td>\n",
              "      <td>1.000000</td>\n",
              "      <td>1.000000</td>\n",
              "      <td>88.000000</td>\n",
              "      <td>54.528601</td>\n",
              "    </tr>\n",
              "    <tr>\n",
              "      <th>50%</th>\n",
              "      <td>9.136700e+04</td>\n",
              "      <td>1951.000000</td>\n",
              "      <td>67.000000</td>\n",
              "      <td>25.000000</td>\n",
              "      <td>34.451613</td>\n",
              "      <td>34.107143</td>\n",
              "      <td>44.516129</td>\n",
              "      <td>53.333333</td>\n",
              "      <td>62.887097</td>\n",
              "      <td>72.250000</td>\n",
              "      <td>...</td>\n",
              "      <td>47.116667</td>\n",
              "      <td>40.516129</td>\n",
              "      <td>42.170000</td>\n",
              "      <td>31.600000</td>\n",
              "      <td>56.835616</td>\n",
              "      <td>1.000000</td>\n",
              "      <td>1.000000</td>\n",
              "      <td>1.000000</td>\n",
              "      <td>104.000000</td>\n",
              "      <td>75.293716</td>\n",
              "    </tr>\n",
              "    <tr>\n",
              "      <th>75%</th>\n",
              "      <td>1.660000e+05</td>\n",
              "      <td>1977.000000</td>\n",
              "      <td>85.000000</td>\n",
              "      <td>42.700000</td>\n",
              "      <td>37.322581</td>\n",
              "      <td>40.879310</td>\n",
              "      <td>49.354839</td>\n",
              "      <td>54.766667</td>\n",
              "      <td>65.096774</td>\n",
              "      <td>72.450000</td>\n",
              "      <td>...</td>\n",
              "      <td>51.339286</td>\n",
              "      <td>43.435484</td>\n",
              "      <td>46.320000</td>\n",
              "      <td>49.100000</td>\n",
              "      <td>57.215847</td>\n",
              "      <td>1.000000</td>\n",
              "      <td>1.000000</td>\n",
              "      <td>1.000000</td>\n",
              "      <td>131.000000</td>\n",
              "      <td>97.277534</td>\n",
              "    </tr>\n",
              "    <tr>\n",
              "      <th>max</th>\n",
              "      <td>6.385382e+06</td>\n",
              "      <td>2015.000000</td>\n",
              "      <td>100.000000</td>\n",
              "      <td>1924.500000</td>\n",
              "      <td>64.758065</td>\n",
              "      <td>65.107143</td>\n",
              "      <td>69.758065</td>\n",
              "      <td>74.500000</td>\n",
              "      <td>82.112903</td>\n",
              "      <td>89.550000</td>\n",
              "      <td>...</td>\n",
              "      <td>67.416667</td>\n",
              "      <td>61.790323</td>\n",
              "      <td>107.690000</td>\n",
              "      <td>127.300000</td>\n",
              "      <td>77.245205</td>\n",
              "      <td>360.000000</td>\n",
              "      <td>360.000000</td>\n",
              "      <td>23.300000</td>\n",
              "      <td>311.000000</td>\n",
              "      <td>997.866120</td>\n",
              "    </tr>\n",
              "    <tr>\n",
              "      <th>CV</th>\n",
              "      <td>1.487348e+00</td>\n",
              "      <td>0.018979</td>\n",
              "      <td>0.469522</td>\n",
              "      <td>1.535364</td>\n",
              "      <td>0.203906</td>\n",
              "      <td>0.249577</td>\n",
              "      <td>0.149702</td>\n",
              "      <td>0.046490</td>\n",
              "      <td>0.043816</td>\n",
              "      <td>0.040268</td>\n",
              "      <td>...</td>\n",
              "      <td>0.085078</td>\n",
              "      <td>0.141004</td>\n",
              "      <td>0.249636</td>\n",
              "      <td>0.611294</td>\n",
              "      <td>0.039909</td>\n",
              "      <td>1.970587</td>\n",
              "      <td>2.075632</td>\n",
              "      <td>1.541256</td>\n",
              "      <td>0.464530</td>\n",
              "      <td>0.705402</td>\n",
              "    </tr>\n",
              "    <tr>\n",
              "      <th>Porc_NA</th>\n",
              "      <td>0.000000e+00</td>\n",
              "      <td>0.024249</td>\n",
              "      <td>0.352561</td>\n",
              "      <td>0.000000</td>\n",
              "      <td>0.000000</td>\n",
              "      <td>0.000000</td>\n",
              "      <td>0.000000</td>\n",
              "      <td>0.000000</td>\n",
              "      <td>0.000000</td>\n",
              "      <td>0.000000</td>\n",
              "      <td>...</td>\n",
              "      <td>0.000000</td>\n",
              "      <td>0.000000</td>\n",
              "      <td>0.000000</td>\n",
              "      <td>0.000000</td>\n",
              "      <td>0.000000</td>\n",
              "      <td>0.542287</td>\n",
              "      <td>0.551909</td>\n",
              "      <td>0.542287</td>\n",
              "      <td>0.604512</td>\n",
              "      <td>0.000000</td>\n",
              "    </tr>\n",
              "  </tbody>\n",
              "</table>\n",
              "<p>10 rows × 24 columns</p>\n",
              "</div>\n",
              "      <button class=\"colab-df-convert\" onclick=\"convertToInteractive('df-9a3f8b98-1474-4c3f-8274-2e2c17a983a4')\"\n",
              "              title=\"Convert this dataframe to an interactive table.\"\n",
              "              style=\"display:none;\">\n",
              "        \n",
              "  <svg xmlns=\"http://www.w3.org/2000/svg\" height=\"24px\"viewBox=\"0 0 24 24\"\n",
              "       width=\"24px\">\n",
              "    <path d=\"M0 0h24v24H0V0z\" fill=\"none\"/>\n",
              "    <path d=\"M18.56 5.44l.94 2.06.94-2.06 2.06-.94-2.06-.94-.94-2.06-.94 2.06-2.06.94zm-11 1L8.5 8.5l.94-2.06 2.06-.94-2.06-.94L8.5 2.5l-.94 2.06-2.06.94zm10 10l.94 2.06.94-2.06 2.06-.94-2.06-.94-.94-2.06-.94 2.06-2.06.94z\"/><path d=\"M17.41 7.96l-1.37-1.37c-.4-.4-.92-.59-1.43-.59-.52 0-1.04.2-1.43.59L10.3 9.45l-7.72 7.72c-.78.78-.78 2.05 0 2.83L4 21.41c.39.39.9.59 1.41.59.51 0 1.02-.2 1.41-.59l7.78-7.78 2.81-2.81c.8-.78.8-2.07 0-2.86zM5.41 20L4 18.59l7.72-7.72 1.47 1.35L5.41 20z\"/>\n",
              "  </svg>\n",
              "      </button>\n",
              "      \n",
              "  <style>\n",
              "    .colab-df-container {\n",
              "      display:flex;\n",
              "      flex-wrap:wrap;\n",
              "      gap: 12px;\n",
              "    }\n",
              "\n",
              "    .colab-df-convert {\n",
              "      background-color: #E8F0FE;\n",
              "      border: none;\n",
              "      border-radius: 50%;\n",
              "      cursor: pointer;\n",
              "      display: none;\n",
              "      fill: #1967D2;\n",
              "      height: 32px;\n",
              "      padding: 0 0 0 0;\n",
              "      width: 32px;\n",
              "    }\n",
              "\n",
              "    .colab-df-convert:hover {\n",
              "      background-color: #E2EBFA;\n",
              "      box-shadow: 0px 1px 2px rgba(60, 64, 67, 0.3), 0px 1px 3px 1px rgba(60, 64, 67, 0.15);\n",
              "      fill: #174EA6;\n",
              "    }\n",
              "\n",
              "    [theme=dark] .colab-df-convert {\n",
              "      background-color: #3B4455;\n",
              "      fill: #D2E3FC;\n",
              "    }\n",
              "\n",
              "    [theme=dark] .colab-df-convert:hover {\n",
              "      background-color: #434B5C;\n",
              "      box-shadow: 0px 1px 3px 1px rgba(0, 0, 0, 0.15);\n",
              "      filter: drop-shadow(0px 1px 2px rgba(0, 0, 0, 0.3));\n",
              "      fill: #FFFFFF;\n",
              "    }\n",
              "  </style>\n",
              "\n",
              "      <script>\n",
              "        const buttonEl =\n",
              "          document.querySelector('#df-9a3f8b98-1474-4c3f-8274-2e2c17a983a4 button.colab-df-convert');\n",
              "        buttonEl.style.display =\n",
              "          google.colab.kernel.accessAllowed ? 'block' : 'none';\n",
              "\n",
              "        async function convertToInteractive(key) {\n",
              "          const element = document.querySelector('#df-9a3f8b98-1474-4c3f-8274-2e2c17a983a4');\n",
              "          const dataTable =\n",
              "            await google.colab.kernel.invokeFunction('convertToInteractive',\n",
              "                                                     [key], {});\n",
              "          if (!dataTable) return;\n",
              "\n",
              "          const docLinkHtml = 'Like what you see? Visit the ' +\n",
              "            '<a target=\"_blank\" href=https://colab.research.google.com/notebooks/data_table.ipynb>data table notebook</a>'\n",
              "            + ' to learn more about interactive tables.';\n",
              "          element.innerHTML = '';\n",
              "          dataTable['output_type'] = 'display_data';\n",
              "          await google.colab.output.renderOutput(dataTable, element);\n",
              "          const docLink = document.createElement('div');\n",
              "          docLink.innerHTML = docLinkHtml;\n",
              "          element.appendChild(docLink);\n",
              "        }\n",
              "      </script>\n",
              "    </div>\n",
              "  </div>\n",
              "  "
            ]
          },
          "metadata": {},
          "execution_count": 24
        }
      ]
    },
    {
      "cell_type": "code",
      "source": [
        "# Aquí estoy usando El Coeficiente de Variacion: desviación dividida para la media, \n",
        "# pero uds pueden usar cualquier otro análisis para encontrar estas variables con poca variabilidad\n",
        "umbral_CV= 0.05\n",
        "dscr_train.loc[:, dscr_train.apply( lambda x: x.loc['CV']< umbral_CV , axis=0)].columns"
      ],
      "metadata": {
        "colab": {
          "base_uri": "https://localhost:8080/"
        },
        "id": "I-aUAT7Ih9Wg",
        "outputId": "ce09d794-df4f-48a1-e1bc-970d70959989"
      },
      "execution_count": null,
      "outputs": [
        {
          "output_type": "execute_result",
          "data": {
            "text/plain": [
              "Index(['year_built', 'april_avg_temp', 'may_avg_temp', 'june_avg_temp',\n",
              "       'october_avg_temp', 'avg_temp'],\n",
              "      dtype='object')"
            ]
          },
          "metadata": {},
          "execution_count": 32
        }
      ]
    },
    {
      "cell_type": "code",
      "source": [
        "# Ver las descriptivas de estas variables (podría servirnos para ver cambios en percentiles)\n",
        "dscr_train.loc[:, dscr_train.apply( lambda x: x.loc['CV']< umbral_CV , axis=0)]"
      ],
      "metadata": {
        "colab": {
          "base_uri": "https://localhost:8080/",
          "height": 363
        },
        "id": "K39v5IySkNZZ",
        "outputId": "f257783e-02fb-4b73-e477-4e0d82c54c72"
      },
      "execution_count": null,
      "outputs": [
        {
          "output_type": "execute_result",
          "data": {
            "text/plain": [
              "           year_built  april_avg_temp  may_avg_temp  june_avg_temp  \\\n",
              "count    73920.000000    75757.000000  75757.000000   75757.000000   \n",
              "mean      1952.306764       53.784863     63.742547      71.066384   \n",
              "std         37.053619        2.500473      2.792919       2.861681   \n",
              "min          0.000000       40.280000     46.950000      54.100000   \n",
              "25%       1927.000000       52.333333     62.790323      70.983333   \n",
              "50%       1951.000000       53.333333     62.887097      72.250000   \n",
              "75%       1977.000000       54.766667     65.096774      72.450000   \n",
              "max       2015.000000       74.500000     82.112903      89.550000   \n",
              "CV           0.018979        0.046490      0.043816       0.040268   \n",
              "Porc_NA      0.024249        0.000000      0.000000       0.000000   \n",
              "\n",
              "         october_avg_temp      avg_temp  \n",
              "count        75757.000000  75757.000000  \n",
              "mean            58.727038     56.176705  \n",
              "std              2.641300      2.241940  \n",
              "min             44.693548     44.512329  \n",
              "25%             58.048387     55.147541  \n",
              "50%             58.758065     56.835616  \n",
              "75%             59.629032     57.215847  \n",
              "max             80.741935     77.245205  \n",
              "CV               0.044976      0.039909  \n",
              "Porc_NA          0.000000      0.000000  "
            ],
            "text/html": [
              "\n",
              "  <div id=\"df-02bd9742-d009-4831-a363-cabcdb9a5cf4\">\n",
              "    <div class=\"colab-df-container\">\n",
              "      <div>\n",
              "<style scoped>\n",
              "    .dataframe tbody tr th:only-of-type {\n",
              "        vertical-align: middle;\n",
              "    }\n",
              "\n",
              "    .dataframe tbody tr th {\n",
              "        vertical-align: top;\n",
              "    }\n",
              "\n",
              "    .dataframe thead th {\n",
              "        text-align: right;\n",
              "    }\n",
              "</style>\n",
              "<table border=\"1\" class=\"dataframe\">\n",
              "  <thead>\n",
              "    <tr style=\"text-align: right;\">\n",
              "      <th></th>\n",
              "      <th>year_built</th>\n",
              "      <th>april_avg_temp</th>\n",
              "      <th>may_avg_temp</th>\n",
              "      <th>june_avg_temp</th>\n",
              "      <th>october_avg_temp</th>\n",
              "      <th>avg_temp</th>\n",
              "    </tr>\n",
              "  </thead>\n",
              "  <tbody>\n",
              "    <tr>\n",
              "      <th>count</th>\n",
              "      <td>73920.000000</td>\n",
              "      <td>75757.000000</td>\n",
              "      <td>75757.000000</td>\n",
              "      <td>75757.000000</td>\n",
              "      <td>75757.000000</td>\n",
              "      <td>75757.000000</td>\n",
              "    </tr>\n",
              "    <tr>\n",
              "      <th>mean</th>\n",
              "      <td>1952.306764</td>\n",
              "      <td>53.784863</td>\n",
              "      <td>63.742547</td>\n",
              "      <td>71.066384</td>\n",
              "      <td>58.727038</td>\n",
              "      <td>56.176705</td>\n",
              "    </tr>\n",
              "    <tr>\n",
              "      <th>std</th>\n",
              "      <td>37.053619</td>\n",
              "      <td>2.500473</td>\n",
              "      <td>2.792919</td>\n",
              "      <td>2.861681</td>\n",
              "      <td>2.641300</td>\n",
              "      <td>2.241940</td>\n",
              "    </tr>\n",
              "    <tr>\n",
              "      <th>min</th>\n",
              "      <td>0.000000</td>\n",
              "      <td>40.280000</td>\n",
              "      <td>46.950000</td>\n",
              "      <td>54.100000</td>\n",
              "      <td>44.693548</td>\n",
              "      <td>44.512329</td>\n",
              "    </tr>\n",
              "    <tr>\n",
              "      <th>25%</th>\n",
              "      <td>1927.000000</td>\n",
              "      <td>52.333333</td>\n",
              "      <td>62.790323</td>\n",
              "      <td>70.983333</td>\n",
              "      <td>58.048387</td>\n",
              "      <td>55.147541</td>\n",
              "    </tr>\n",
              "    <tr>\n",
              "      <th>50%</th>\n",
              "      <td>1951.000000</td>\n",
              "      <td>53.333333</td>\n",
              "      <td>62.887097</td>\n",
              "      <td>72.250000</td>\n",
              "      <td>58.758065</td>\n",
              "      <td>56.835616</td>\n",
              "    </tr>\n",
              "    <tr>\n",
              "      <th>75%</th>\n",
              "      <td>1977.000000</td>\n",
              "      <td>54.766667</td>\n",
              "      <td>65.096774</td>\n",
              "      <td>72.450000</td>\n",
              "      <td>59.629032</td>\n",
              "      <td>57.215847</td>\n",
              "    </tr>\n",
              "    <tr>\n",
              "      <th>max</th>\n",
              "      <td>2015.000000</td>\n",
              "      <td>74.500000</td>\n",
              "      <td>82.112903</td>\n",
              "      <td>89.550000</td>\n",
              "      <td>80.741935</td>\n",
              "      <td>77.245205</td>\n",
              "    </tr>\n",
              "    <tr>\n",
              "      <th>CV</th>\n",
              "      <td>0.018979</td>\n",
              "      <td>0.046490</td>\n",
              "      <td>0.043816</td>\n",
              "      <td>0.040268</td>\n",
              "      <td>0.044976</td>\n",
              "      <td>0.039909</td>\n",
              "    </tr>\n",
              "    <tr>\n",
              "      <th>Porc_NA</th>\n",
              "      <td>0.024249</td>\n",
              "      <td>0.000000</td>\n",
              "      <td>0.000000</td>\n",
              "      <td>0.000000</td>\n",
              "      <td>0.000000</td>\n",
              "      <td>0.000000</td>\n",
              "    </tr>\n",
              "  </tbody>\n",
              "</table>\n",
              "</div>\n",
              "      <button class=\"colab-df-convert\" onclick=\"convertToInteractive('df-02bd9742-d009-4831-a363-cabcdb9a5cf4')\"\n",
              "              title=\"Convert this dataframe to an interactive table.\"\n",
              "              style=\"display:none;\">\n",
              "        \n",
              "  <svg xmlns=\"http://www.w3.org/2000/svg\" height=\"24px\"viewBox=\"0 0 24 24\"\n",
              "       width=\"24px\">\n",
              "    <path d=\"M0 0h24v24H0V0z\" fill=\"none\"/>\n",
              "    <path d=\"M18.56 5.44l.94 2.06.94-2.06 2.06-.94-2.06-.94-.94-2.06-.94 2.06-2.06.94zm-11 1L8.5 8.5l.94-2.06 2.06-.94-2.06-.94L8.5 2.5l-.94 2.06-2.06.94zm10 10l.94 2.06.94-2.06 2.06-.94-2.06-.94-.94-2.06-.94 2.06-2.06.94z\"/><path d=\"M17.41 7.96l-1.37-1.37c-.4-.4-.92-.59-1.43-.59-.52 0-1.04.2-1.43.59L10.3 9.45l-7.72 7.72c-.78.78-.78 2.05 0 2.83L4 21.41c.39.39.9.59 1.41.59.51 0 1.02-.2 1.41-.59l7.78-7.78 2.81-2.81c.8-.78.8-2.07 0-2.86zM5.41 20L4 18.59l7.72-7.72 1.47 1.35L5.41 20z\"/>\n",
              "  </svg>\n",
              "      </button>\n",
              "      \n",
              "  <style>\n",
              "    .colab-df-container {\n",
              "      display:flex;\n",
              "      flex-wrap:wrap;\n",
              "      gap: 12px;\n",
              "    }\n",
              "\n",
              "    .colab-df-convert {\n",
              "      background-color: #E8F0FE;\n",
              "      border: none;\n",
              "      border-radius: 50%;\n",
              "      cursor: pointer;\n",
              "      display: none;\n",
              "      fill: #1967D2;\n",
              "      height: 32px;\n",
              "      padding: 0 0 0 0;\n",
              "      width: 32px;\n",
              "    }\n",
              "\n",
              "    .colab-df-convert:hover {\n",
              "      background-color: #E2EBFA;\n",
              "      box-shadow: 0px 1px 2px rgba(60, 64, 67, 0.3), 0px 1px 3px 1px rgba(60, 64, 67, 0.15);\n",
              "      fill: #174EA6;\n",
              "    }\n",
              "\n",
              "    [theme=dark] .colab-df-convert {\n",
              "      background-color: #3B4455;\n",
              "      fill: #D2E3FC;\n",
              "    }\n",
              "\n",
              "    [theme=dark] .colab-df-convert:hover {\n",
              "      background-color: #434B5C;\n",
              "      box-shadow: 0px 1px 3px 1px rgba(0, 0, 0, 0.15);\n",
              "      filter: drop-shadow(0px 1px 2px rgba(0, 0, 0, 0.3));\n",
              "      fill: #FFFFFF;\n",
              "    }\n",
              "  </style>\n",
              "\n",
              "      <script>\n",
              "        const buttonEl =\n",
              "          document.querySelector('#df-02bd9742-d009-4831-a363-cabcdb9a5cf4 button.colab-df-convert');\n",
              "        buttonEl.style.display =\n",
              "          google.colab.kernel.accessAllowed ? 'block' : 'none';\n",
              "\n",
              "        async function convertToInteractive(key) {\n",
              "          const element = document.querySelector('#df-02bd9742-d009-4831-a363-cabcdb9a5cf4');\n",
              "          const dataTable =\n",
              "            await google.colab.kernel.invokeFunction('convertToInteractive',\n",
              "                                                     [key], {});\n",
              "          if (!dataTable) return;\n",
              "\n",
              "          const docLinkHtml = 'Like what you see? Visit the ' +\n",
              "            '<a target=\"_blank\" href=https://colab.research.google.com/notebooks/data_table.ipynb>data table notebook</a>'\n",
              "            + ' to learn more about interactive tables.';\n",
              "          element.innerHTML = '';\n",
              "          dataTable['output_type'] = 'display_data';\n",
              "          await google.colab.output.renderOutput(dataTable, element);\n",
              "          const docLink = document.createElement('div');\n",
              "          docLink.innerHTML = docLinkHtml;\n",
              "          element.appendChild(docLink);\n",
              "        }\n",
              "      </script>\n",
              "    </div>\n",
              "  </div>\n",
              "  "
            ]
          },
          "metadata": {},
          "execution_count": 33
        }
      ]
    },
    {
      "cell_type": "code",
      "source": [
        "## Seleccionar columnas por nombre en el train (sólo para probar)\n",
        "train.loc[ :, dscr_train.loc[:, dscr_train.apply( lambda x: x.loc['CV']< umbral_CV , axis=0)].columns ]"
      ],
      "metadata": {
        "colab": {
          "base_uri": "https://localhost:8080/",
          "height": 423
        },
        "id": "QuBqi6Rch_ep",
        "outputId": "ad9b8568-0d25-4615-d5e2-3139f7b96380"
      },
      "execution_count": null,
      "outputs": [
        {
          "output_type": "execute_result",
          "data": {
            "text/plain": [
              "       year_built  april_avg_temp  may_avg_temp  june_avg_temp  \\\n",
              "0          1942.0       55.500000     56.854839      60.500000   \n",
              "1          1955.0       55.500000     56.854839      60.500000   \n",
              "2          1951.0       55.500000     56.854839      60.500000   \n",
              "3          1980.0       55.500000     56.854839      60.500000   \n",
              "4          1985.0       55.500000     56.854839      60.500000   \n",
              "...           ...             ...           ...            ...   \n",
              "75752      1995.0       56.266667     59.193548      63.566667   \n",
              "75753      1910.0       56.266667     59.193548      63.566667   \n",
              "75754      1917.0       50.183333     52.145161      56.233333   \n",
              "75755      2012.0       50.183333     52.145161      56.233333   \n",
              "75756      1974.0       51.533333     53.887097      58.433333   \n",
              "\n",
              "       october_avg_temp   avg_temp  \n",
              "0             63.016129  56.972603  \n",
              "1             63.016129  56.972603  \n",
              "2             63.016129  56.972603  \n",
              "3             63.016129  56.972603  \n",
              "4             63.016129  56.972603  \n",
              "...                 ...        ...  \n",
              "75752         55.403226  55.147541  \n",
              "75753         55.403226  55.147541  \n",
              "75754         47.661290  47.911202  \n",
              "75755         47.661290  47.911202  \n",
              "75756         48.532258  49.127397  \n",
              "\n",
              "[75757 rows x 6 columns]"
            ],
            "text/html": [
              "\n",
              "  <div id=\"df-0231eca4-d8fc-4236-a24f-a5a1fd72fbad\">\n",
              "    <div class=\"colab-df-container\">\n",
              "      <div>\n",
              "<style scoped>\n",
              "    .dataframe tbody tr th:only-of-type {\n",
              "        vertical-align: middle;\n",
              "    }\n",
              "\n",
              "    .dataframe tbody tr th {\n",
              "        vertical-align: top;\n",
              "    }\n",
              "\n",
              "    .dataframe thead th {\n",
              "        text-align: right;\n",
              "    }\n",
              "</style>\n",
              "<table border=\"1\" class=\"dataframe\">\n",
              "  <thead>\n",
              "    <tr style=\"text-align: right;\">\n",
              "      <th></th>\n",
              "      <th>year_built</th>\n",
              "      <th>april_avg_temp</th>\n",
              "      <th>may_avg_temp</th>\n",
              "      <th>june_avg_temp</th>\n",
              "      <th>october_avg_temp</th>\n",
              "      <th>avg_temp</th>\n",
              "    </tr>\n",
              "  </thead>\n",
              "  <tbody>\n",
              "    <tr>\n",
              "      <th>0</th>\n",
              "      <td>1942.0</td>\n",
              "      <td>55.500000</td>\n",
              "      <td>56.854839</td>\n",
              "      <td>60.500000</td>\n",
              "      <td>63.016129</td>\n",
              "      <td>56.972603</td>\n",
              "    </tr>\n",
              "    <tr>\n",
              "      <th>1</th>\n",
              "      <td>1955.0</td>\n",
              "      <td>55.500000</td>\n",
              "      <td>56.854839</td>\n",
              "      <td>60.500000</td>\n",
              "      <td>63.016129</td>\n",
              "      <td>56.972603</td>\n",
              "    </tr>\n",
              "    <tr>\n",
              "      <th>2</th>\n",
              "      <td>1951.0</td>\n",
              "      <td>55.500000</td>\n",
              "      <td>56.854839</td>\n",
              "      <td>60.500000</td>\n",
              "      <td>63.016129</td>\n",
              "      <td>56.972603</td>\n",
              "    </tr>\n",
              "    <tr>\n",
              "      <th>3</th>\n",
              "      <td>1980.0</td>\n",
              "      <td>55.500000</td>\n",
              "      <td>56.854839</td>\n",
              "      <td>60.500000</td>\n",
              "      <td>63.016129</td>\n",
              "      <td>56.972603</td>\n",
              "    </tr>\n",
              "    <tr>\n",
              "      <th>4</th>\n",
              "      <td>1985.0</td>\n",
              "      <td>55.500000</td>\n",
              "      <td>56.854839</td>\n",
              "      <td>60.500000</td>\n",
              "      <td>63.016129</td>\n",
              "      <td>56.972603</td>\n",
              "    </tr>\n",
              "    <tr>\n",
              "      <th>...</th>\n",
              "      <td>...</td>\n",
              "      <td>...</td>\n",
              "      <td>...</td>\n",
              "      <td>...</td>\n",
              "      <td>...</td>\n",
              "      <td>...</td>\n",
              "    </tr>\n",
              "    <tr>\n",
              "      <th>75752</th>\n",
              "      <td>1995.0</td>\n",
              "      <td>56.266667</td>\n",
              "      <td>59.193548</td>\n",
              "      <td>63.566667</td>\n",
              "      <td>55.403226</td>\n",
              "      <td>55.147541</td>\n",
              "    </tr>\n",
              "    <tr>\n",
              "      <th>75753</th>\n",
              "      <td>1910.0</td>\n",
              "      <td>56.266667</td>\n",
              "      <td>59.193548</td>\n",
              "      <td>63.566667</td>\n",
              "      <td>55.403226</td>\n",
              "      <td>55.147541</td>\n",
              "    </tr>\n",
              "    <tr>\n",
              "      <th>75754</th>\n",
              "      <td>1917.0</td>\n",
              "      <td>50.183333</td>\n",
              "      <td>52.145161</td>\n",
              "      <td>56.233333</td>\n",
              "      <td>47.661290</td>\n",
              "      <td>47.911202</td>\n",
              "    </tr>\n",
              "    <tr>\n",
              "      <th>75755</th>\n",
              "      <td>2012.0</td>\n",
              "      <td>50.183333</td>\n",
              "      <td>52.145161</td>\n",
              "      <td>56.233333</td>\n",
              "      <td>47.661290</td>\n",
              "      <td>47.911202</td>\n",
              "    </tr>\n",
              "    <tr>\n",
              "      <th>75756</th>\n",
              "      <td>1974.0</td>\n",
              "      <td>51.533333</td>\n",
              "      <td>53.887097</td>\n",
              "      <td>58.433333</td>\n",
              "      <td>48.532258</td>\n",
              "      <td>49.127397</td>\n",
              "    </tr>\n",
              "  </tbody>\n",
              "</table>\n",
              "<p>75757 rows × 6 columns</p>\n",
              "</div>\n",
              "      <button class=\"colab-df-convert\" onclick=\"convertToInteractive('df-0231eca4-d8fc-4236-a24f-a5a1fd72fbad')\"\n",
              "              title=\"Convert this dataframe to an interactive table.\"\n",
              "              style=\"display:none;\">\n",
              "        \n",
              "  <svg xmlns=\"http://www.w3.org/2000/svg\" height=\"24px\"viewBox=\"0 0 24 24\"\n",
              "       width=\"24px\">\n",
              "    <path d=\"M0 0h24v24H0V0z\" fill=\"none\"/>\n",
              "    <path d=\"M18.56 5.44l.94 2.06.94-2.06 2.06-.94-2.06-.94-.94-2.06-.94 2.06-2.06.94zm-11 1L8.5 8.5l.94-2.06 2.06-.94-2.06-.94L8.5 2.5l-.94 2.06-2.06.94zm10 10l.94 2.06.94-2.06 2.06-.94-2.06-.94-.94-2.06-.94 2.06-2.06.94z\"/><path d=\"M17.41 7.96l-1.37-1.37c-.4-.4-.92-.59-1.43-.59-.52 0-1.04.2-1.43.59L10.3 9.45l-7.72 7.72c-.78.78-.78 2.05 0 2.83L4 21.41c.39.39.9.59 1.41.59.51 0 1.02-.2 1.41-.59l7.78-7.78 2.81-2.81c.8-.78.8-2.07 0-2.86zM5.41 20L4 18.59l7.72-7.72 1.47 1.35L5.41 20z\"/>\n",
              "  </svg>\n",
              "      </button>\n",
              "      \n",
              "  <style>\n",
              "    .colab-df-container {\n",
              "      display:flex;\n",
              "      flex-wrap:wrap;\n",
              "      gap: 12px;\n",
              "    }\n",
              "\n",
              "    .colab-df-convert {\n",
              "      background-color: #E8F0FE;\n",
              "      border: none;\n",
              "      border-radius: 50%;\n",
              "      cursor: pointer;\n",
              "      display: none;\n",
              "      fill: #1967D2;\n",
              "      height: 32px;\n",
              "      padding: 0 0 0 0;\n",
              "      width: 32px;\n",
              "    }\n",
              "\n",
              "    .colab-df-convert:hover {\n",
              "      background-color: #E2EBFA;\n",
              "      box-shadow: 0px 1px 2px rgba(60, 64, 67, 0.3), 0px 1px 3px 1px rgba(60, 64, 67, 0.15);\n",
              "      fill: #174EA6;\n",
              "    }\n",
              "\n",
              "    [theme=dark] .colab-df-convert {\n",
              "      background-color: #3B4455;\n",
              "      fill: #D2E3FC;\n",
              "    }\n",
              "\n",
              "    [theme=dark] .colab-df-convert:hover {\n",
              "      background-color: #434B5C;\n",
              "      box-shadow: 0px 1px 3px 1px rgba(0, 0, 0, 0.15);\n",
              "      filter: drop-shadow(0px 1px 2px rgba(0, 0, 0, 0.3));\n",
              "      fill: #FFFFFF;\n",
              "    }\n",
              "  </style>\n",
              "\n",
              "      <script>\n",
              "        const buttonEl =\n",
              "          document.querySelector('#df-0231eca4-d8fc-4236-a24f-a5a1fd72fbad button.colab-df-convert');\n",
              "        buttonEl.style.display =\n",
              "          google.colab.kernel.accessAllowed ? 'block' : 'none';\n",
              "\n",
              "        async function convertToInteractive(key) {\n",
              "          const element = document.querySelector('#df-0231eca4-d8fc-4236-a24f-a5a1fd72fbad');\n",
              "          const dataTable =\n",
              "            await google.colab.kernel.invokeFunction('convertToInteractive',\n",
              "                                                     [key], {});\n",
              "          if (!dataTable) return;\n",
              "\n",
              "          const docLinkHtml = 'Like what you see? Visit the ' +\n",
              "            '<a target=\"_blank\" href=https://colab.research.google.com/notebooks/data_table.ipynb>data table notebook</a>'\n",
              "            + ' to learn more about interactive tables.';\n",
              "          element.innerHTML = '';\n",
              "          dataTable['output_type'] = 'display_data';\n",
              "          await google.colab.output.renderOutput(dataTable, element);\n",
              "          const docLink = document.createElement('div');\n",
              "          docLink.innerHTML = docLinkHtml;\n",
              "          element.appendChild(docLink);\n",
              "        }\n",
              "      </script>\n",
              "    </div>\n",
              "  </div>\n",
              "  "
            ]
          },
          "metadata": {},
          "execution_count": 34
        }
      ]
    },
    {
      "cell_type": "markdown",
      "source": [
        "**Debate**  \n",
        "¿Está bien usar el coeficiente de variación? O prefieren usar rango intercuartil por ejemplo? O alguna otra medida que les diga cuán \"poco variables\" son los datos?... Y eliminarían todas las variables? Cuáles sí??"
      ],
      "metadata": {
        "id": "y_c-_NE7PEH5"
      }
    },
    {
      "cell_type": "code",
      "source": [],
      "metadata": {
        "id": "SPuDMET6B92v"
      },
      "execution_count": null,
      "outputs": []
    },
    {
      "cell_type": "markdown",
      "source": [
        "#### ++ Variables categoricas cuyo label mayor es cercano a 100%"
      ],
      "metadata": {
        "id": "58hgI9bk9PCD"
      }
    },
    {
      "cell_type": "markdown",
      "source": [
        "Aquí deben desarrollar algo que permita encontrar cuál es el label con mayor frecuencia en cada variable categórica; luego ver el porcentaje de ese label. El resultado debería ser algo así:  \n",
        "\n",
        "| Variable | Label | Porc |\n",
        "| --- | --- | --- |\n",
        "| Satisfacción | Bueno | 90 |\n",
        "| País_Nacimi | Ecuad | 98 |\n",
        "\n",
        "Lo que luego nos permitirá filtrar esas variable cuya primer categoría (en frecuencia) sea cercana a 100 (umbral por definir)\n"
      ],
      "metadata": {
        "id": "Kijga0koPaZ6"
      }
    },
    {
      "cell_type": "code",
      "source": [],
      "metadata": {
        "id": "5tm0igzZhmoH"
      },
      "execution_count": null,
      "outputs": []
    },
    {
      "cell_type": "code",
      "source": [],
      "metadata": {
        "id": "tGRS1njlU7wG"
      },
      "execution_count": null,
      "outputs": []
    },
    {
      "cell_type": "markdown",
      "source": [
        "#### ++ Variables categoricas que deben unirse las categorias\n",
        "\n",
        "En R esto lo hace automaticamente tidymodels (https://recipes.tidymodels.org/reference/step_other.html), en Python no es así y esto afecta mucho en términos de RAM al modelamiento (por la cantidad de variables dummy que se crean)"
      ],
      "metadata": {
        "id": "YletaNctv6Ya"
      }
    },
    {
      "cell_type": "code",
      "source": [],
      "metadata": {
        "id": "3MDJ1fz-v6xC"
      },
      "execution_count": null,
      "outputs": []
    },
    {
      "cell_type": "code",
      "source": [],
      "metadata": {
        "id": "PMnlbp1xv61D"
      },
      "execution_count": null,
      "outputs": []
    },
    {
      "cell_type": "markdown",
      "source": [
        "#### ++ Análisis simple de la variable Y\n",
        "\n",
        "- Categórica? Cuántos niveles?\n",
        "- Numérica? Cómo se distribuye? tiene Outliers?"
      ],
      "metadata": {
        "id": "mfCfGI1l9tdt"
      }
    },
    {
      "cell_type": "code",
      "source": [],
      "metadata": {
        "id": "WAOs0sHk96lQ"
      },
      "execution_count": null,
      "outputs": []
    },
    {
      "cell_type": "code",
      "source": [],
      "metadata": {
        "id": "qODaXxLm96nY"
      },
      "execution_count": null,
      "outputs": []
    },
    {
      "cell_type": "markdown",
      "source": [
        "#### Conclusiones"
      ],
      "metadata": {
        "id": "1-Jy7M--hnwe"
      }
    },
    {
      "cell_type": "markdown",
      "source": [
        "Aquí deben poner las conclusiones de todo el proceso de EDA:  \n",
        "- ¿Qué variables se eliminan y porqué?\n",
        "- ¿Qué variables se van a transformar, por ejemplo creando una nueva que sea binaria e indique que hubo missing_value\n",
        "- ¿Existe alguna variables que amerite realizarle una transformación (cuadrática, logaritmica)?"
      ],
      "metadata": {
        "id": "ccVn0fTBRG9L"
      }
    },
    {
      "cell_type": "markdown",
      "source": [],
      "metadata": {
        "id": "MnTvZ1FdRHDC"
      }
    },
    {
      "cell_type": "code",
      "source": [],
      "metadata": {
        "id": "CC_FuHbuls6K"
      },
      "execution_count": null,
      "outputs": []
    },
    {
      "cell_type": "markdown",
      "source": [
        "--------------\n",
        "--------------\n",
        "--------------"
      ],
      "metadata": {
        "id": "30jQvV6Wl00I"
      }
    },
    {
      "cell_type": "markdown",
      "source": [
        "### EDA Multivariado\n",
        "\n",
        "Para encontrar \n",
        "- Relaciones entre variables como variables que pueden producir tener multicolinearidad o concurvidad, etc.\n",
        "- Cómo se comportan las variables vs la variable Y \n",
        "- Existen valores aberrantes cuando se comparan variables (o pares de variables) vs nuestra Y"
      ],
      "metadata": {
        "id": "0GjIisKmde_1"
      }
    },
    {
      "cell_type": "code",
      "source": [],
      "metadata": {
        "id": "Fah510hVfR_O"
      },
      "execution_count": null,
      "outputs": []
    },
    {
      "cell_type": "code",
      "source": [],
      "metadata": {
        "id": "kJifPvi7h5C2"
      },
      "execution_count": null,
      "outputs": []
    },
    {
      "cell_type": "markdown",
      "source": [
        "#### ++ Variables con alta correlación"
      ],
      "metadata": {
        "id": "0K83k20Th0p-"
      }
    },
    {
      "cell_type": "code",
      "source": [],
      "metadata": {
        "id": "-2K81J_Th4vJ"
      },
      "execution_count": null,
      "outputs": []
    }
  ]
}