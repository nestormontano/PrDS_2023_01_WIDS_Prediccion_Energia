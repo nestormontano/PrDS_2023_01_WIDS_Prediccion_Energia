{
  "nbformat": 4,
  "nbformat_minor": 0,
  "metadata": {
    "colab": {
      "provenance": [],
      "authorship_tag": "ABX9TyPkdVR7BkoU/SBGwiAn7pFj",
      "include_colab_link": true
    },
    "kernelspec": {
      "name": "ir",
      "display_name": "R"
    },
    "language_info": {
      "name": "R"
    }
  },
  "cells": [
    {
      "cell_type": "markdown",
      "metadata": {
        "id": "view-in-github",
        "colab_type": "text"
      },
      "source": [
        "<a href=\"https://colab.research.google.com/github/nestormontano/PrDS_2023_01_WIDS_Prediccion_Energia/blob/main/Scripts/WIDS2022_Prediccion_Energia__EDA_r_ipynb.ipynb\" target=\"_parent\"><img src=\"https://colab.research.google.com/assets/colab-badge.svg\" alt=\"Open In Colab\"/></a>"
      ]
    },
    {
      "cell_type": "markdown",
      "source": [
        "# Proyecto Programa Data Science WIDS - Prediccion de Energia\n",
        "\n",
        "Con R"
      ],
      "metadata": {
        "id": "QwxmAKA2mFCm"
      }
    },
    {
      "cell_type": "markdown",
      "source": [
        "Sitio del concurso: https://www.kaggle.com/c/widsdatathon2022\n",
        "\n",
        "Datos: https://drive.google.com/drive/folders/1BxbUc5k1DowoyIvRurX1Iw8ksyIrLzBE?usp=share_link\n",
        "\n",
        "\n",
        "En R no pueden conectarse a Google Drive, pueden  seguir las instrucciones dadas en el pdf para  \n",
        "- Ser invitados como colaboradores del repositorio en GitHub\n",
        "- Conectar el Colab con su drive \n",
        "- Escribir en GitHub los cambios para que se noten sus aportes."
      ],
      "metadata": {
        "id": "XErjk9JpmJTD"
      }
    },
    {
      "cell_type": "markdown",
      "source": [
        "#### Preliminares"
      ],
      "metadata": {
        "id": "9K79lrZ7mUoe"
      }
    },
    {
      "cell_type": "code",
      "execution_count": 2,
      "metadata": {
        "id": "5Htp7lh_gsjQ"
      },
      "outputs": [],
      "source": [
        "library(tidyverse)"
      ]
    },
    {
      "cell_type": "markdown",
      "source": [
        "### Descargar los datos"
      ],
      "metadata": {
        "id": "9NTOcF4kow7S"
      }
    },
    {
      "cell_type": "code",
      "source": [
        "# https://drive.google.com/file/d/1PdeAFd0I1XLZ8WEaFbpBXB18QDWZMyXo/view?usp=sharing\n",
        "system(\"gdown --id 1PdeAFd0I1XLZ8WEaFbpBXB18QDWZMyXo\")"
      ],
      "metadata": {
        "id": "NrfJmIg-ozOS"
      },
      "execution_count": 3,
      "outputs": []
    },
    {
      "cell_type": "markdown",
      "source": [
        "## EDA"
      ],
      "metadata": {
        "id": "2LdyyLImmYb3"
      }
    },
    {
      "cell_type": "markdown",
      "source": [
        "### Importar, corregir Datos y unir"
      ],
      "metadata": {
        "id": "n8vapSlQmaPv"
      }
    },
    {
      "cell_type": "code",
      "source": [
        "datos= read_csv('train.csv')"
      ],
      "metadata": {
        "colab": {
          "base_uri": "https://localhost:8080/"
        },
        "id": "b5nmKeIdo9Oo",
        "outputId": "be14829a-9168-475e-af6e-9c53c5eaec63"
      },
      "execution_count": null,
      "outputs": [
        {
          "output_type": "stream",
          "name": "stderr",
          "text": [
            "\u001b[1mRows: \u001b[22m\u001b[34m75757\u001b[39m \u001b[1mColumns: \u001b[22m\u001b[34m64\u001b[39m\n",
            "\u001b[36m──\u001b[39m \u001b[1mColumn specification\u001b[22m \u001b[36m────────────────────────────────────────────────────────\u001b[39m\n",
            "\u001b[1mDelimiter:\u001b[22m \",\"\n",
            "\u001b[31mchr\u001b[39m  (3): State_Factor, building_class, facility_type\n",
            "\u001b[32mdbl\u001b[39m (61): Year_Factor, floor_area, year_built, energy_star_rating, ELEVATION...\n",
            "\n",
            "\u001b[36mℹ\u001b[39m Use `spec()` to retrieve the full column specification for this data.\n",
            "\u001b[36mℹ\u001b[39m Specify the column types or set `show_col_types = FALSE` to quiet this message.\n"
          ]
        }
      ]
    },
    {
      "cell_type": "code",
      "source": [
        "datos %>% glimpse"
      ],
      "metadata": {
        "colab": {
          "base_uri": "https://localhost:8080/"
        },
        "id": "EStrVpOBgu-Q",
        "outputId": "68e7f889-2b60-4898-ce63-65bc9f2b68e3"
      },
      "execution_count": null,
      "outputs": [
        {
          "output_type": "stream",
          "name": "stdout",
          "text": [
            "Rows: 75,757\n",
            "Columns: 64\n",
            "$ Year_Factor               \u001b[3m\u001b[90m<dbl>\u001b[39m\u001b[23m 1, 1, 1, 1, 1, 1, 1, 1, 1, 1, 1, 1, 1, 1, 1,…\n",
            "$ State_Factor              \u001b[3m\u001b[90m<chr>\u001b[39m\u001b[23m \"State_1\", \"State_1\", \"State_1\", \"State_1\", …\n",
            "$ building_class            \u001b[3m\u001b[90m<chr>\u001b[39m\u001b[23m \"Commercial\", \"Commercial\", \"Commercial\", \"C…\n",
            "$ facility_type             \u001b[3m\u001b[90m<chr>\u001b[39m\u001b[23m \"Grocery_store_or_food_market\", \"Warehouse_D…\n",
            "$ floor_area                \u001b[3m\u001b[90m<dbl>\u001b[39m\u001b[23m 61242, 274000, 280025, 55325, 66000, 119900,…\n",
            "$ year_built                \u001b[3m\u001b[90m<dbl>\u001b[39m\u001b[23m 1942, 1955, 1951, 1980, 1985, 1956, 1982, 19…\n",
            "$ energy_star_rating        \u001b[3m\u001b[90m<dbl>\u001b[39m\u001b[23m 11, 45, 97, 46, 100, NA, 56, 99, 98, 83, 51,…\n",
            "$ ELEVATION                 \u001b[3m\u001b[90m<dbl>\u001b[39m\u001b[23m 2.4, 1.8, 1.8, 1.8, 2.4, 2.4, 2.4, 2.4, 2.4,…\n",
            "$ january_min_temp          \u001b[3m\u001b[90m<dbl>\u001b[39m\u001b[23m 36, 36, 36, 36, 36, 36, 36, 36, 36, 36, 36, …\n",
            "$ january_avg_temp          \u001b[3m\u001b[90m<dbl>\u001b[39m\u001b[23m 50.5, 50.5, 50.5, 50.5, 50.5, 50.5, 50.5, 50…\n",
            "$ january_max_temp          \u001b[3m\u001b[90m<dbl>\u001b[39m\u001b[23m 68, 68, 68, 68, 68, 68, 68, 68, 68, 68, 68, …\n",
            "$ february_min_temp         \u001b[3m\u001b[90m<dbl>\u001b[39m\u001b[23m 35, 35, 35, 35, 35, 35, 35, 35, 35, 35, 35, …\n",
            "$ february_avg_temp         \u001b[3m\u001b[90m<dbl>\u001b[39m\u001b[23m 50.58929, 50.58929, 50.58929, 50.58929, 50.5…\n",
            "$ february_max_temp         \u001b[3m\u001b[90m<dbl>\u001b[39m\u001b[23m 73, 73, 73, 73, 73, 73, 73, 73, 73, 73, 73, …\n",
            "$ march_min_temp            \u001b[3m\u001b[90m<dbl>\u001b[39m\u001b[23m 40, 40, 40, 40, 40, 40, 40, 40, 40, 40, 40, …\n",
            "$ march_avg_temp            \u001b[3m\u001b[90m<dbl>\u001b[39m\u001b[23m 53.69355, 53.69355, 53.69355, 53.69355, 53.6…\n",
            "$ march_max_temp            \u001b[3m\u001b[90m<dbl>\u001b[39m\u001b[23m 80, 80, 80, 80, 80, 80, 80, 80, 80, 80, 80, …\n",
            "$ april_min_temp            \u001b[3m\u001b[90m<dbl>\u001b[39m\u001b[23m 41, 41, 41, 41, 41, 41, 41, 41, 41, 41, 41, …\n",
            "$ april_avg_temp            \u001b[3m\u001b[90m<dbl>\u001b[39m\u001b[23m 55.5, 55.5, 55.5, 55.5, 55.5, 55.5, 55.5, 55…\n",
            "$ april_max_temp            \u001b[3m\u001b[90m<dbl>\u001b[39m\u001b[23m 78, 78, 78, 78, 78, 78, 78, 78, 78, 78, 78, …\n",
            "$ may_min_temp              \u001b[3m\u001b[90m<dbl>\u001b[39m\u001b[23m 46, 46, 46, 46, 46, 46, 46, 46, 46, 46, 46, …\n",
            "$ may_avg_temp              \u001b[3m\u001b[90m<dbl>\u001b[39m\u001b[23m 56.85484, 56.85484, 56.85484, 56.85484, 56.8…\n",
            "$ may_max_temp              \u001b[3m\u001b[90m<dbl>\u001b[39m\u001b[23m 84, 84, 84, 84, 84, 84, 84, 84, 84, 84, 84, …\n",
            "$ june_min_temp             \u001b[3m\u001b[90m<dbl>\u001b[39m\u001b[23m 50, 50, 50, 50, 50, 50, 50, 50, 50, 50, 50, …\n",
            "$ june_avg_temp             \u001b[3m\u001b[90m<dbl>\u001b[39m\u001b[23m 60.5, 60.5, 60.5, 60.5, 60.5, 60.5, 60.5, 60…\n",
            "$ june_max_temp             \u001b[3m\u001b[90m<dbl>\u001b[39m\u001b[23m 90, 90, 90, 90, 90, 90, 90, 90, 90, 90, 90, …\n",
            "$ july_min_temp             \u001b[3m\u001b[90m<dbl>\u001b[39m\u001b[23m 52, 52, 52, 52, 52, 52, 52, 52, 52, 52, 52, …\n",
            "$ july_avg_temp             \u001b[3m\u001b[90m<dbl>\u001b[39m\u001b[23m 62.72581, 62.72581, 62.72581, 62.72581, 62.7…\n",
            "$ july_max_temp             \u001b[3m\u001b[90m<dbl>\u001b[39m\u001b[23m 84, 84, 84, 84, 84, 84, 84, 84, 84, 84, 84, …\n",
            "$ august_min_temp           \u001b[3m\u001b[90m<dbl>\u001b[39m\u001b[23m 52, 52, 52, 52, 52, 52, 52, 52, 52, 52, 52, …\n",
            "$ august_avg_temp           \u001b[3m\u001b[90m<dbl>\u001b[39m\u001b[23m 62.16129, 62.16129, 62.16129, 62.16129, 62.1…\n",
            "$ august_max_temp           \u001b[3m\u001b[90m<dbl>\u001b[39m\u001b[23m 85, 85, 85, 85, 85, 85, 85, 85, 85, 85, 85, …\n",
            "$ september_min_temp        \u001b[3m\u001b[90m<dbl>\u001b[39m\u001b[23m 52, 52, 52, 52, 52, 52, 52, 52, 52, 52, 52, …\n",
            "$ september_avg_temp        \u001b[3m\u001b[90m<dbl>\u001b[39m\u001b[23m 64.65, 64.65, 64.65, 64.65, 64.65, 64.65, 64…\n",
            "$ september_max_temp        \u001b[3m\u001b[90m<dbl>\u001b[39m\u001b[23m 90, 90, 90, 90, 90, 90, 90, 90, 90, 90, 90, …\n",
            "$ october_min_temp          \u001b[3m\u001b[90m<dbl>\u001b[39m\u001b[23m 47, 47, 47, 47, 47, 47, 47, 47, 47, 47, 47, …\n",
            "$ october_avg_temp          \u001b[3m\u001b[90m<dbl>\u001b[39m\u001b[23m 63.01613, 63.01613, 63.01613, 63.01613, 63.0…\n",
            "$ october_max_temp          \u001b[3m\u001b[90m<dbl>\u001b[39m\u001b[23m 83, 83, 83, 83, 83, 83, 83, 83, 83, 83, 83, …\n",
            "$ november_min_temp         \u001b[3m\u001b[90m<dbl>\u001b[39m\u001b[23m 43, 43, 43, 43, 43, 43, 43, 43, 43, 43, 43, …\n",
            "$ november_avg_temp         \u001b[3m\u001b[90m<dbl>\u001b[39m\u001b[23m 53.8, 53.8, 53.8, 53.8, 53.8, 53.8, 53.8, 53…\n",
            "$ november_max_temp         \u001b[3m\u001b[90m<dbl>\u001b[39m\u001b[23m 72, 72, 72, 72, 72, 72, 72, 72, 72, 72, 72, …\n",
            "$ december_min_temp         \u001b[3m\u001b[90m<dbl>\u001b[39m\u001b[23m 36, 36, 36, 36, 36, 36, 36, 36, 36, 36, 36, …\n",
            "$ december_avg_temp         \u001b[3m\u001b[90m<dbl>\u001b[39m\u001b[23m 49.27419, 49.27419, 49.27419, 49.27419, 49.2…\n",
            "$ december_max_temp         \u001b[3m\u001b[90m<dbl>\u001b[39m\u001b[23m 71, 71, 71, 71, 71, 71, 71, 71, 71, 71, 71, …\n",
            "$ cooling_degree_days       \u001b[3m\u001b[90m<dbl>\u001b[39m\u001b[23m 115, 115, 115, 115, 115, 115, 115, 115, 115,…\n",
            "$ heating_degree_days       \u001b[3m\u001b[90m<dbl>\u001b[39m\u001b[23m 2960, 2960, 2960, 2960, 2960, 2960, 2960, 29…\n",
            "$ precipitation_inches      \u001b[3m\u001b[90m<dbl>\u001b[39m\u001b[23m 16.59, 16.59, 16.59, 16.59, 16.59, 16.59, 16…\n",
            "$ snowfall_inches           \u001b[3m\u001b[90m<dbl>\u001b[39m\u001b[23m 0, 0, 0, 0, 0, 0, 0, 0, 0, 0, 0, 0, 0, 0, 0,…\n",
            "$ snowdepth_inches          \u001b[3m\u001b[90m<dbl>\u001b[39m\u001b[23m 0, 0, 0, 0, 0, 0, 0, 0, 0, 0, 0, 0, 0, 0, 0,…\n",
            "$ avg_temp                  \u001b[3m\u001b[90m<dbl>\u001b[39m\u001b[23m 56.9726, 56.9726, 56.9726, 56.9726, 56.9726,…\n",
            "$ days_below_30F            \u001b[3m\u001b[90m<dbl>\u001b[39m\u001b[23m 0, 0, 0, 0, 0, 0, 0, 0, 0, 0, 0, 0, 0, 0, 0,…\n",
            "$ days_below_20F            \u001b[3m\u001b[90m<dbl>\u001b[39m\u001b[23m 0, 0, 0, 0, 0, 0, 0, 0, 0, 0, 0, 0, 0, 0, 0,…\n",
            "$ days_below_10F            \u001b[3m\u001b[90m<dbl>\u001b[39m\u001b[23m 0, 0, 0, 0, 0, 0, 0, 0, 0, 0, 0, 0, 0, 0, 0,…\n",
            "$ days_below_0F             \u001b[3m\u001b[90m<dbl>\u001b[39m\u001b[23m 0, 0, 0, 0, 0, 0, 0, 0, 0, 0, 0, 0, 0, 0, 0,…\n",
            "$ days_above_80F            \u001b[3m\u001b[90m<dbl>\u001b[39m\u001b[23m 14, 14, 14, 14, 14, 14, 14, 14, 14, 14, 14, …\n",
            "$ days_above_90F            \u001b[3m\u001b[90m<dbl>\u001b[39m\u001b[23m 0, 0, 0, 0, 0, 0, 0, 0, 0, 0, 0, 0, 0, 0, 0,…\n",
            "$ days_above_100F           \u001b[3m\u001b[90m<dbl>\u001b[39m\u001b[23m 0, 0, 0, 0, 0, 0, 0, 0, 0, 0, 0, 0, 0, 0, 0,…\n",
            "$ days_above_110F           \u001b[3m\u001b[90m<dbl>\u001b[39m\u001b[23m 0, 0, 0, 0, 0, 0, 0, 0, 0, 0, 0, 0, 0, 0, 0,…\n",
            "$ direction_max_wind_speed  \u001b[3m\u001b[90m<dbl>\u001b[39m\u001b[23m 1, 1, 1, 1, 1, 1, 1, 1, 1, 1, 1, 1, 1, 1, 1,…\n",
            "$ direction_peak_wind_speed \u001b[3m\u001b[90m<dbl>\u001b[39m\u001b[23m 1, NA, NA, NA, 1, 1, 1, 1, 1, 1, 1, 1, 1, 1,…\n",
            "$ max_wind_speed            \u001b[3m\u001b[90m<dbl>\u001b[39m\u001b[23m 1, 1, 1, 1, 1, 1, 1, 1, 1, 1, 1, 1, 1, 1, 1,…\n",
            "$ days_with_fog             \u001b[3m\u001b[90m<dbl>\u001b[39m\u001b[23m NA, 12, 12, 12, NA, NA, NA, NA, NA, NA, NA, …\n",
            "$ site_eui                  \u001b[3m\u001b[90m<dbl>\u001b[39m\u001b[23m 248.682615, 26.500150, 24.693619, 48.406926,…\n",
            "$ id                        \u001b[3m\u001b[90m<dbl>\u001b[39m\u001b[23m 0, 1, 2, 3, 4, 5, 6, 7, 8, 9, 10, 11, 12, 13…\n"
          ]
        }
      ]
    },
    {
      "cell_type": "code",
      "source": [],
      "metadata": {
        "id": "sdC_N1NHpys0"
      },
      "execution_count": null,
      "outputs": []
    },
    {
      "cell_type": "markdown",
      "source": [
        "### EDA univariado\n",
        "\n",
        "Para encontrar qué variables deben ser excluidas del modelo, si se requiere alguna transformación, etc."
      ],
      "metadata": {
        "id": "ICy0mA9Pmhle"
      }
    },
    {
      "cell_type": "code",
      "source": [],
      "metadata": {
        "id": "Z05Ra587mh5v"
      },
      "execution_count": null,
      "outputs": []
    },
    {
      "cell_type": "code",
      "source": [],
      "metadata": {
        "id": "3yWH-e62mh7-"
      },
      "execution_count": null,
      "outputs": []
    },
    {
      "cell_type": "markdown",
      "source": [
        "#### ++ Variables con demasiados NA"
      ],
      "metadata": {
        "id": "gPnzvj6XmiJW"
      }
    },
    {
      "cell_type": "code",
      "source": [],
      "metadata": {
        "id": "wud68ZFgml5v"
      },
      "execution_count": null,
      "outputs": []
    },
    {
      "cell_type": "markdown",
      "source": [
        "#### ++ Variables con varianza cercana a cero"
      ],
      "metadata": {
        "id": "VgoPwk44mmCX"
      }
    },
    {
      "cell_type": "code",
      "source": [],
      "metadata": {
        "id": "6QG2Ff_EmoW2"
      },
      "execution_count": null,
      "outputs": []
    },
    {
      "cell_type": "code",
      "source": [],
      "metadata": {
        "id": "xzKfy3chmrO-"
      },
      "execution_count": null,
      "outputs": []
    },
    {
      "cell_type": "markdown",
      "source": [
        "#### Conclusiones"
      ],
      "metadata": {
        "id": "PBsUpfN9mnyu"
      }
    },
    {
      "cell_type": "markdown",
      "source": [],
      "metadata": {
        "id": "wSALInuDmvJP"
      }
    },
    {
      "cell_type": "markdown",
      "source": [
        "### EDA Multivariado\n",
        "\n",
        "Para encontrar relaciones entre variables, variables que pueden producir tener multicolinearidad o concurvidad, etc."
      ],
      "metadata": {
        "id": "kPRt-Xw8mr1o"
      }
    },
    {
      "cell_type": "code",
      "source": [],
      "metadata": {
        "id": "DjQJ3cTWmvgf"
      },
      "execution_count": null,
      "outputs": []
    },
    {
      "cell_type": "markdown",
      "source": [
        "#### ++ Variables con alta correlación"
      ],
      "metadata": {
        "id": "wjKwZxOMmyBw"
      }
    },
    {
      "cell_type": "code",
      "source": [],
      "metadata": {
        "id": "yTtSGrQ6myUQ"
      },
      "execution_count": null,
      "outputs": []
    },
    {
      "cell_type": "code",
      "source": [],
      "metadata": {
        "id": "UDQOUlm3myW3"
      },
      "execution_count": null,
      "outputs": []
    }
  ]
}